{
 "cells": [
  {
   "cell_type": "markdown",
   "id": "bdb484b3",
   "metadata": {},
   "source": [
    "# class methods and variables"
   ]
  },
  {
   "cell_type": "code",
   "execution_count": 19,
   "id": "3c9221c9",
   "metadata": {},
   "outputs": [],
   "source": [
    "class car:\n",
    "    base_price=10000    #class variables\n",
    "    def __init__(self,windows,doors,power):\n",
    "        self.windows=windows\n",
    "        self.doors=doors\n",
    "        self.power=power\n",
    "    def what_base_price(self):\n",
    "        print(\"The base price is {}\".format(self.base_price))\n",
    "        \n",
    "    @classmethod               #decorator\n",
    "    def revise_base_price(cls,inflation):\n",
    "        cls.base_price=cls.base_price+cls.base_price*inflation     #value updation"
   ]
  },
  {
   "cell_type": "code",
   "execution_count": 20,
   "id": "f17c35f8",
   "metadata": {},
   "outputs": [],
   "source": [
    "car.revise_base_price(0.10)"
   ]
  },
  {
   "cell_type": "code",
   "execution_count": 21,
   "id": "03cc9511",
   "metadata": {},
   "outputs": [
    {
     "data": {
      "text/plain": [
       "11000.0"
      ]
     },
     "execution_count": 21,
     "metadata": {},
     "output_type": "execute_result"
    }
   ],
   "source": [
    "car.base_price"
   ]
  },
  {
   "cell_type": "code",
   "execution_count": 22,
   "id": "e68d079e",
   "metadata": {},
   "outputs": [],
   "source": [
    "car1=car(4,5,2000)"
   ]
  },
  {
   "cell_type": "code",
   "execution_count": 23,
   "id": "07397edc",
   "metadata": {},
   "outputs": [
    {
     "data": {
      "text/plain": [
       "11000.0"
      ]
     },
     "execution_count": 23,
     "metadata": {},
     "output_type": "execute_result"
    }
   ],
   "source": [
    "car1.base_price"
   ]
  },
  {
   "cell_type": "code",
   "execution_count": null,
   "id": "bbf832f9",
   "metadata": {},
   "outputs": [],
   "source": []
  }
 ],
 "metadata": {
  "kernelspec": {
   "display_name": "Python 3",
   "language": "python",
   "name": "python3"
  },
  "language_info": {
   "codemirror_mode": {
    "name": "ipython",
    "version": 3
   },
   "file_extension": ".py",
   "mimetype": "text/x-python",
   "name": "python",
   "nbconvert_exporter": "python",
   "pygments_lexer": "ipython3",
   "version": "3.8.8"
  }
 },
 "nbformat": 4,
 "nbformat_minor": 5
}
