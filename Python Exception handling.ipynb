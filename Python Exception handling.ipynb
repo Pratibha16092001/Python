{
 "cells": [
  {
   "cell_type": "markdown",
   "id": "1afbd957",
   "metadata": {},
   "source": [
    "# Python Exception Handling"
   ]
  },
  {
   "cell_type": "code",
   "execution_count": 1,
   "id": "01f931e8",
   "metadata": {},
   "outputs": [
    {
     "name": "stdout",
     "output_type": "stream",
     "text": [
      "User has not defined variable\n"
     ]
    }
   ],
   "source": [
    "try:\n",
    "    ##code block where exception can occur\n",
    "    a=b\n",
    "except NameError as ex1:\n",
    "    print(\"User has not defined variable\")\n",
    "except Exception as ex:\n",
    "    print(ex)"
   ]
  },
  {
   "cell_type": "code",
   "execution_count": 2,
   "id": "39a54676",
   "metadata": {},
   "outputs": [
    {
     "name": "stdout",
     "output_type": "stream",
     "text": [
      "try to make a data type similar\n"
     ]
    }
   ],
   "source": [
    "try:\n",
    "    ##code block where exception can occur\n",
    "    #a=b\n",
    "    \n",
    "    a=1\n",
    "    b=\"s\"\n",
    "    c=a+b\n",
    "\n",
    "except NameError as ex1:\n",
    "    print(\"User has not defined variable\")\n",
    "except TypeError as ex2:\n",
    "    print(\"try to make a data type similar\")\n",
    "except Exception as ex:\n",
    "    print(ex)"
   ]
  },
  {
   "cell_type": "code",
   "execution_count": 6,
   "id": "fb573b5e",
   "metadata": {},
   "outputs": [
    {
     "name": "stdout",
     "output_type": "stream",
     "text": [
      "Enter first num\n",
      "12\n",
      "Enter second num\n",
      "0\n",
      "Plz enter num greater than zero\n",
      "\n"
     ]
    }
   ],
   "source": [
    "# Exception occured\n",
    "try:\n",
    "    ##code block where exception can occur\n",
    "    #a=b\n",
    "    a=int(input(\"Enter first num\\n\"))\n",
    "    b=int(input(\"Enter second num\\n\"))\n",
    "    c=a/b\n",
    "\n",
    "except NameError as ex1:\n",
    "    print(\"User has not defined variable\\n\")\n",
    "except TypeError as ex2:\n",
    "    print(\"try to make a data type similar\\n\")\n",
    "except ZeroDivisionError as ex3:\n",
    "    print(\"Plz enter num greater than zero\\n\")\n",
    "except Exception as ex:\n",
    "    print(ex)\n",
    "else:\n",
    "        print(c)"
   ]
  },
  {
   "cell_type": "code",
   "execution_count": 4,
   "id": "75491677",
   "metadata": {},
   "outputs": [
    {
     "name": "stdout",
     "output_type": "stream",
     "text": [
      "Enter first num\n",
      "12\n",
      "Enter second num\n",
      "4\n",
      "3.0\n"
     ]
    }
   ],
   "source": [
    "try:\n",
    "    ##code block where exception can occur\n",
    "    #a=b\n",
    "    a=int(input(\"Enter first num\\n\"))\n",
    "    b=int(input(\"Enter second num\\n\"))\n",
    "    c=a/b\n",
    "\n",
    "except NameError as ex1:\n",
    "    print(\"User has not defined variable\\n\")\n",
    "except TypeError as ex2:\n",
    "    print(\"try to make a data type similar\\n\")\n",
    "except ZeroDivisionError as ex3:\n",
    "    print(\"Plz enter num greater than zero\\n\")\n",
    "except Exception as ex:\n",
    "    print(ex)\n",
    "else:\n",
    "        print(c)"
   ]
  },
  {
   "cell_type": "markdown",
   "id": "119b6b86",
   "metadata": {},
   "source": [
    "# try,else and finally"
   ]
  },
  {
   "cell_type": "code",
   "execution_count": 7,
   "id": "8fc7f1c2",
   "metadata": {},
   "outputs": [
    {
     "name": "stdout",
     "output_type": "stream",
     "text": [
      "Enter first num\n",
      "12\n",
      "Enter second num\n",
      "0\n",
      "Plz enter num greater than zero\n",
      "\n",
      "The execution is done\n"
     ]
    }
   ],
   "source": [
    "try:\n",
    "    ##code block where exception can occur\n",
    "    #a=b\n",
    "    a=int(input(\"Enter first num\\n\"))\n",
    "    b=int(input(\"Enter second num\\n\"))\n",
    "    c=a/b\n",
    "\n",
    "except NameError as ex1:\n",
    "    print(\"User has not defined variable\\n\")\n",
    "except TypeError as ex2:\n",
    "    print(\"try to make a data type similar\\n\")\n",
    "except ZeroDivisionError as ex3:\n",
    "    print(\"Plz enter num greater than zero\\n\")\n",
    "except Exception as ex:\n",
    "    print(ex)\n",
    "else:\n",
    "        print(c)\n",
    "finally:\n",
    "    print(\"The execution is done\")"
   ]
  },
  {
   "cell_type": "code",
   "execution_count": 8,
   "id": "5d29bbc8",
   "metadata": {},
   "outputs": [
    {
     "name": "stdout",
     "output_type": "stream",
     "text": [
      "Enter first num\n",
      "12\n",
      "Enter second num\n",
      "4\n",
      "3.0\n",
      "The execution is done\n"
     ]
    }
   ],
   "source": [
    "try:\n",
    "    ##code block where exception can occur\n",
    "    #a=b\n",
    "    a=int(input(\"Enter first num\\n\"))\n",
    "    b=int(input(\"Enter second num\\n\"))\n",
    "    c=a/b\n",
    "\n",
    "except NameError as ex1:\n",
    "    print(\"User has not defined variable\\n\")\n",
    "except TypeError as ex2:\n",
    "    print(\"try to make a data type similar\\n\")\n",
    "except ZeroDivisionError as ex3:\n",
    "    print(\"Plz enter num greater than zero\\n\")\n",
    "except Exception as ex:\n",
    "    print(ex)\n",
    "else:\n",
    "        print(c)\n",
    "finally:\n",
    "    print(\"The execution is done\")      "
   ]
  },
  {
   "cell_type": "markdown",
   "id": "646e3aff",
   "metadata": {},
   "source": [
    "### From above results we conclude that finally is executed either exception occured or not"
   ]
  },
  {
   "cell_type": "markdown",
   "id": "bc139ccd",
   "metadata": {},
   "source": [
    "# Custom exception handling in python"
   ]
  },
  {
   "cell_type": "code",
   "execution_count": 10,
   "id": "30665325",
   "metadata": {},
   "outputs": [],
   "source": [
    "class Error(Exception):\n",
    "    pass\n",
    "\n",
    "class dobException(Error):\n",
    "    pass"
   ]
  },
  {
   "cell_type": "code",
   "execution_count": 13,
   "id": "48faf72a",
   "metadata": {},
   "outputs": [
    {
     "name": "stdout",
     "output_type": "stream",
     "text": [
      "Enter the year of birth1986\n",
      "The age is not valid you cannot apply for exam\n"
     ]
    }
   ],
   "source": [
    "year=int(input(\"Enter the year of birth\"))\n",
    "age=2022-year\n",
    "try:\n",
    "    \n",
    "    if age<=30 & age>20:\n",
    "        pass\n",
    "    else:\n",
    "        raise dobException\n",
    "except dobException:\n",
    "    print(\"The age is not valid you cannot apply for exam\")"
   ]
  },
  {
   "cell_type": "code",
   "execution_count": null,
   "id": "ebd39e5a",
   "metadata": {},
   "outputs": [],
   "source": []
  }
 ],
 "metadata": {
  "kernelspec": {
   "display_name": "Python 3",
   "language": "python",
   "name": "python3"
  },
  "language_info": {
   "codemirror_mode": {
    "name": "ipython",
    "version": 3
   },
   "file_extension": ".py",
   "mimetype": "text/x-python",
   "name": "python",
   "nbconvert_exporter": "python",
   "pygments_lexer": "ipython3",
   "version": "3.8.8"
  }
 },
 "nbformat": 4,
 "nbformat_minor": 5
}
