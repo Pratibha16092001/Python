{
 "cells": [
  {
   "cell_type": "markdown",
   "id": "19575cc2",
   "metadata": {},
   "source": [
    "# String formatting in python"
   ]
  },
  {
   "cell_type": "code",
   "execution_count": 2,
   "id": "d692c474",
   "metadata": {},
   "outputs": [
    {
     "name": "stdout",
     "output_type": "stream",
     "text": [
      "Hello everyone\n"
     ]
    }
   ],
   "source": [
    "print('Hello everyone')"
   ]
  },
  {
   "cell_type": "code",
   "execution_count": 3,
   "id": "16ab4df1",
   "metadata": {},
   "outputs": [
    {
     "data": {
      "text/plain": [
       "'Hello Pratibha Welcome to the community'"
      ]
     },
     "execution_count": 3,
     "metadata": {},
     "output_type": "execute_result"
    }
   ],
   "source": [
    "def greeting(name):\n",
    "    return \"Hello {} Welcome to the community\".format(name)\n",
    "greeting('Pratibha')"
   ]
  },
  {
   "cell_type": "code",
   "execution_count": 4,
   "id": "e67350c0",
   "metadata": {},
   "outputs": [
    {
     "data": {
      "text/plain": [
       "'Welcome Pratibha .Your age is 21'"
      ]
     },
     "execution_count": 4,
     "metadata": {},
     "output_type": "execute_result"
    }
   ],
   "source": [
    "def welcome_email(name,age):\n",
    "    return 'Welcome {} .Your age is {}'.format(name,age)\n",
    "welcome_email('Pratibha',21)"
   ]
  },
  {
   "cell_type": "code",
   "execution_count": 8,
   "id": "53868375",
   "metadata": {},
   "outputs": [
    {
     "data": {
      "text/plain": [
       "'Welcome Pratibha .Your age is 21'"
      ]
     },
     "execution_count": 8,
     "metadata": {},
     "output_type": "execute_result"
    }
   ],
   "source": [
    "# Temporary variables\n",
    "def welcome_email(name,age):\n",
    "    return 'Welcome {name1} .Your age is {age1}'.format(name1=name,age1=age)\n",
    "welcome_email('Pratibha',21)"
   ]
  },
  {
   "cell_type": "code",
   "execution_count": null,
   "id": "64cd7d03",
   "metadata": {},
   "outputs": [],
   "source": []
  }
 ],
 "metadata": {
  "kernelspec": {
   "display_name": "Python 3",
   "language": "python",
   "name": "python3"
  },
  "language_info": {
   "codemirror_mode": {
    "name": "ipython",
    "version": 3
   },
   "file_extension": ".py",
   "mimetype": "text/x-python",
   "name": "python",
   "nbconvert_exporter": "python",
   "pygments_lexer": "ipython3",
   "version": "3.8.8"
  }
 },
 "nbformat": 4,
 "nbformat_minor": 5
}
