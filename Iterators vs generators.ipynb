{
 "cells": [
  {
   "cell_type": "markdown",
   "id": "dc97922e",
   "metadata": {},
   "source": [
    "# Python iterators vs generators"
   ]
  },
  {
   "cell_type": "code",
   "execution_count": 10,
   "id": "997d7c79",
   "metadata": {},
   "outputs": [
    {
     "name": "stdout",
     "output_type": "stream",
     "text": [
      "1\n",
      "2\n",
      "3\n",
      "4\n"
     ]
    }
   ],
   "source": [
    "#iterable\n",
    "list1=[1,2,3,4]\n",
    "for i in list1:\n",
    "    print(i)"
   ]
  },
  {
   "cell_type": "code",
   "execution_count": 16,
   "id": "a0d88e9f",
   "metadata": {},
   "outputs": [],
   "source": [
    "# iterator\n",
    "iterable=iter(list1)"
   ]
  },
  {
   "cell_type": "code",
   "execution_count": 12,
   "id": "e8f9c45b",
   "metadata": {},
   "outputs": [
    {
     "data": {
      "text/plain": [
       "list_iterator"
      ]
     },
     "execution_count": 12,
     "metadata": {},
     "output_type": "execute_result"
    }
   ],
   "source": [
    "type(iterable)"
   ]
  },
  {
   "cell_type": "code",
   "execution_count": 13,
   "id": "d8b7d1a9",
   "metadata": {},
   "outputs": [
    {
     "name": "stdout",
     "output_type": "stream",
     "text": [
      "1\n",
      "2\n",
      "3\n",
      "4\n"
     ]
    }
   ],
   "source": [
    "# we can iterate through iterator\n",
    "for i in iterable:\n",
    "    print(i)"
   ]
  },
  {
   "cell_type": "code",
   "execution_count": 14,
   "id": "889f3e93",
   "metadata": {},
   "outputs": [
    {
     "data": {
      "text/plain": [
       "<list_iterator at 0x7fb7a52a8ee0>"
      ]
     },
     "execution_count": 14,
     "metadata": {},
     "output_type": "execute_result"
    }
   ],
   "source": [
    "iterable"
   ]
  },
  {
   "cell_type": "code",
   "execution_count": 17,
   "id": "04f1d3d0",
   "metadata": {},
   "outputs": [
    {
     "data": {
      "text/plain": [
       "1"
      ]
     },
     "execution_count": 17,
     "metadata": {},
     "output_type": "execute_result"
    }
   ],
   "source": [
    "next(iterable)"
   ]
  },
  {
   "cell_type": "code",
   "execution_count": 21,
   "id": "11cbf1e5",
   "metadata": {},
   "outputs": [
    {
     "name": "stdout",
     "output_type": "stream",
     "text": [
      "The iterator is empty\n"
     ]
    }
   ],
   "source": [
    "try:\n",
    "    print(next(iterable))\n",
    "except:\n",
    "    print('The iterator is empty')\n"
   ]
  },
  {
   "cell_type": "code",
   "execution_count": 26,
   "id": "a958b484",
   "metadata": {},
   "outputs": [],
   "source": [
    "# Generator\n",
    "# is used in order to create iterator\n",
    "def square(n):\n",
    "    for i in range (n):\n",
    "        yield i**2      #yield return wrt all the iterations"
   ]
  },
  {
   "cell_type": "code",
   "execution_count": 28,
   "id": "79733df3",
   "metadata": {},
   "outputs": [
    {
     "name": "stdout",
     "output_type": "stream",
     "text": [
      "0\n",
      "1\n",
      "4\n"
     ]
    }
   ],
   "source": [
    "for i in square(3):\n",
    "    print(i)"
   ]
  },
  {
   "cell_type": "code",
   "execution_count": 29,
   "id": "e40d3f8e",
   "metadata": {},
   "outputs": [
    {
     "data": {
      "text/plain": [
       "<generator object square at 0x7fb78fb80660>"
      ]
     },
     "execution_count": 29,
     "metadata": {},
     "output_type": "execute_result"
    }
   ],
   "source": [
    "a=square(3)\n",
    "a"
   ]
  },
  {
   "cell_type": "raw",
   "id": "d13a0192",
   "metadata": {},
   "source": [
    "# Difference\n",
    "1.To create iterator we used iter() and for generator we used yield keyword\n",
    "2.Generator uses yield keyword which save the local variable and return it.\n",
    "3.Generator helps to write fast & compatible code\n",
    "4.Iterator is memory efficient"
   ]
  },
  {
   "cell_type": "code",
   "execution_count": 30,
   "id": "5cc6291e",
   "metadata": {},
   "outputs": [],
   "source": [
    "import types,collections"
   ]
  },
  {
   "cell_type": "code",
   "execution_count": 32,
   "id": "f4aa7dda",
   "metadata": {},
   "outputs": [
    {
     "data": {
      "text/plain": [
       "True"
      ]
     },
     "execution_count": 32,
     "metadata": {},
     "output_type": "execute_result"
    }
   ],
   "source": [
    "issubclass(types.GeneratorType,collections.Iterator)"
   ]
  },
  {
   "cell_type": "raw",
   "id": "0ee43517",
   "metadata": {},
   "source": [
    "It indicates that generator is also an iterator & inherating from iterator class itself we create function to create generator\n",
    "for iterator we just used iter keyword"
   ]
  }
 ],
 "metadata": {
  "kernelspec": {
   "display_name": "Python 3",
   "language": "python",
   "name": "python3"
  },
  "language_info": {
   "codemirror_mode": {
    "name": "ipython",
    "version": 3
   },
   "file_extension": ".py",
   "mimetype": "text/x-python",
   "name": "python",
   "nbconvert_exporter": "python",
   "pygments_lexer": "ipython3",
   "version": "3.8.8"
  }
 },
 "nbformat": 4,
 "nbformat_minor": 5
}
