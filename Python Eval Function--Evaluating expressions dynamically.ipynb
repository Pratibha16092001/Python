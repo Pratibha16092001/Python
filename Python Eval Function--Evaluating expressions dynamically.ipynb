{
 "cells": [
  {
   "cell_type": "markdown",
   "id": "b1dcd8da",
   "metadata": {},
   "source": [
    "# Python Eval Function--Evaluating expressions dynamically"
   ]
  },
  {
   "cell_type": "code",
   "execution_count": 3,
   "id": "7a2d3bb0",
   "metadata": {},
   "outputs": [
    {
     "data": {
      "text/plain": [
       "25"
      ]
     },
     "execution_count": 3,
     "metadata": {},
     "output_type": "execute_result"
    }
   ],
   "source": [
    "# Eval function evaluates python expression which are written as strings\n",
    "eval(\"5*5\")"
   ]
  },
  {
   "cell_type": "code",
   "execution_count": 5,
   "id": "f141d753",
   "metadata": {},
   "outputs": [
    {
     "name": "stdout",
     "output_type": "stream",
     "text": [
      "Enter the expression\n",
      "4%5\n"
     ]
    },
    {
     "data": {
      "text/plain": [
       "4"
      ]
     },
     "execution_count": 5,
     "metadata": {},
     "output_type": "execute_result"
    }
   ],
   "source": [
    "eval(input('Enter the expression\\n'))"
   ]
  },
  {
   "cell_type": "code",
   "execution_count": 8,
   "id": "4d814366",
   "metadata": {},
   "outputs": [
    {
     "name": "stdout",
     "output_type": "stream",
     "text": [
      "Enter the expression\n",
      "7*4\n"
     ]
    },
    {
     "data": {
      "text/plain": [
       "28"
      ]
     },
     "execution_count": 8,
     "metadata": {},
     "output_type": "execute_result"
    }
   ],
   "source": [
    "eval(input('Enter the expression\\n'))"
   ]
  },
  {
   "cell_type": "code",
   "execution_count": 10,
   "id": "6d5ba9fa",
   "metadata": {},
   "outputs": [],
   "source": [
    "def square_num(num):\n",
    "    return num*2"
   ]
  },
  {
   "cell_type": "code",
   "execution_count": 11,
   "id": "b2895888",
   "metadata": {},
   "outputs": [
    {
     "data": {
      "text/plain": [
       "6"
      ]
     },
     "execution_count": 11,
     "metadata": {},
     "output_type": "execute_result"
    }
   ],
   "source": [
    "eval('square_num(3)')"
   ]
  },
  {
   "cell_type": "raw",
   "id": "a2715d06",
   "metadata": {},
   "source": [
    "How does eval work\n",
    "1.Parse python expression\n",
    "2.compile into byte code\n",
    "3.evalute the python expression\n",
    "4.it will return the result"
   ]
  },
  {
   "cell_type": "code",
   "execution_count": 13,
   "id": "a7319f62",
   "metadata": {},
   "outputs": [],
   "source": [
    "var=compile(\"5*5\",\"<string>\",\"eval\")"
   ]
  },
  {
   "cell_type": "code",
   "execution_count": 14,
   "id": "52e929d5",
   "metadata": {},
   "outputs": [
    {
     "data": {
      "text/plain": [
       "25"
      ]
     },
     "execution_count": 14,
     "metadata": {},
     "output_type": "execute_result"
    }
   ],
   "source": [
    "eval(var)"
   ]
  },
  {
   "cell_type": "code",
   "execution_count": 16,
   "id": "72db6b8a",
   "metadata": {},
   "outputs": [
    {
     "data": {
      "text/plain": [
       "15000"
      ]
     },
     "execution_count": 16,
     "metadata": {},
     "output_type": "execute_result"
    }
   ],
   "source": [
    "# Globals parameters\n",
    "x=100\n",
    "eval(\"x*50+x**2\",{\"x\":x})"
   ]
  },
  {
   "cell_type": "code",
   "execution_count": 20,
   "id": "7f08411f",
   "metadata": {},
   "outputs": [
    {
     "data": {
      "text/plain": [
       "75"
      ]
     },
     "execution_count": 20,
     "metadata": {},
     "output_type": "execute_result"
    }
   ],
   "source": [
    "x=23\n",
    "y=12\n",
    "eval(\"x*3+y*8%z\",{\"x\":x,\"y\":y,\"z\":10})\n",
    "#x & y are global and z-local variable"
   ]
  },
  {
   "cell_type": "code",
   "execution_count": null,
   "id": "31de5f41",
   "metadata": {},
   "outputs": [],
   "source": []
  }
 ],
 "metadata": {
  "kernelspec": {
   "display_name": "Python 3",
   "language": "python",
   "name": "python3"
  },
  "language_info": {
   "codemirror_mode": {
    "name": "ipython",
    "version": 3
   },
   "file_extension": ".py",
   "mimetype": "text/x-python",
   "name": "python",
   "nbconvert_exporter": "python",
   "pygments_lexer": "ipython3",
   "version": "3.8.8"
  }
 },
 "nbformat": 4,
 "nbformat_minor": 5
}
