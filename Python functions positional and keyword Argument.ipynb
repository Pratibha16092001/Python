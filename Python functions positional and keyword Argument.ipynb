{
 "cells": [
  {
   "cell_type": "markdown",
   "id": "43230186",
   "metadata": {},
   "source": [
    "# Python Functions"
   ]
  },
  {
   "cell_type": "code",
   "execution_count": 1,
   "id": "79b761ef",
   "metadata": {},
   "outputs": [],
   "source": [
    "# function demo\n",
    "def even_odd(num):\n",
    "    if num%2==0:\n",
    "        return'even'\n",
    "    else:\n",
    "        return'odd'"
   ]
  },
  {
   "cell_type": "code",
   "execution_count": 2,
   "id": "e13c19e5",
   "metadata": {},
   "outputs": [
    {
     "data": {
      "text/plain": [
       "'odd'"
      ]
     },
     "execution_count": 2,
     "metadata": {},
     "output_type": "execute_result"
    }
   ],
   "source": [
    "even_odd(9)"
   ]
  },
  {
   "cell_type": "code",
   "execution_count": 1,
   "id": "0a2e56b0",
   "metadata": {},
   "outputs": [],
   "source": [
    "# print vs return\n",
    "# print does not return anything\n",
    "def hello_world():\n",
    "    print(\"Hello welcome\")"
   ]
  },
  {
   "cell_type": "code",
   "execution_count": 4,
   "id": "dbd49832",
   "metadata": {},
   "outputs": [
    {
     "name": "stdout",
     "output_type": "stream",
     "text": [
      "Hello welcome\n"
     ]
    }
   ],
   "source": [
    "val=hello_world()"
   ]
  },
  {
   "cell_type": "code",
   "execution_count": 9,
   "id": "d027a5fc",
   "metadata": {},
   "outputs": [
    {
     "name": "stdout",
     "output_type": "stream",
     "text": [
      "None\n"
     ]
    }
   ],
   "source": [
    "print(val)"
   ]
  },
  {
   "cell_type": "code",
   "execution_count": 13,
   "id": "7d59e12a",
   "metadata": {},
   "outputs": [],
   "source": [
    "# return ,returns the value\n",
    "def hello():\n",
    "    return\"Hello Everyone\""
   ]
  },
  {
   "cell_type": "code",
   "execution_count": 14,
   "id": "df1f499d",
   "metadata": {},
   "outputs": [],
   "source": [
    "val1=hello()"
   ]
  },
  {
   "cell_type": "code",
   "execution_count": 15,
   "id": "025aba3e",
   "metadata": {},
   "outputs": [
    {
     "data": {
      "text/plain": [
       "'Hello Everyone'"
      ]
     },
     "execution_count": 15,
     "metadata": {},
     "output_type": "execute_result"
    }
   ],
   "source": [
    "val1"
   ]
  },
  {
   "cell_type": "code",
   "execution_count": 16,
   "id": "0b18fda7",
   "metadata": {},
   "outputs": [],
   "source": [
    "def add_number(num1,num2):\n",
    "    return num1+num2"
   ]
  },
  {
   "cell_type": "code",
   "execution_count": 17,
   "id": "da33232b",
   "metadata": {},
   "outputs": [
    {
     "data": {
      "text/plain": [
       "23"
      ]
     },
     "execution_count": 17,
     "metadata": {},
     "output_type": "execute_result"
    }
   ],
   "source": [
    "val=add_number(21,2)\n",
    "val"
   ]
  },
  {
   "cell_type": "markdown",
   "id": "e5b8c7ef",
   "metadata": {},
   "source": [
    "# Positional argument and keyword arg"
   ]
  },
  {
   "cell_type": "code",
   "execution_count": 20,
   "id": "cee4c509",
   "metadata": {},
   "outputs": [
    {
     "name": "stdout",
     "output_type": "stream",
     "text": [
      "My name is Pratibha & age is 21\n"
     ]
    }
   ],
   "source": [
    "# Postional argument- Doesnt pass value directly\n",
    "# keyword argument- Pass value in the form of key value pairs\n",
    "\n",
    "def hello(name,age=21):\n",
    "    print(\"My name is {} & age is {}\".format(name,age))\n",
    "hello(\"Pratibha\")\n"
   ]
  },
  {
   "cell_type": "markdown",
   "id": "d702f70b",
   "metadata": {},
   "source": [
    "Here name is positonal argument and age is keyword arg"
   ]
  },
  {
   "cell_type": "code",
   "execution_count": 21,
   "id": "efcea2b3",
   "metadata": {},
   "outputs": [],
   "source": [
    "def hello(*args,**kwargs):\n",
    "    print(args)\n",
    "    print(kwargs)"
   ]
  },
  {
   "cell_type": "code",
   "execution_count": 23,
   "id": "88c42b36",
   "metadata": {},
   "outputs": [
    {
     "name": "stdout",
     "output_type": "stream",
     "text": [
      "('Pratibha', 'Antre')\n",
      "{'age': 21, 'yob': 2001}\n"
     ]
    }
   ],
   "source": [
    "hello(\"Pratibha\",\"Antre\",age=21,yob=2001)"
   ]
  },
  {
   "cell_type": "code",
   "execution_count": 31,
   "id": "10528320",
   "metadata": {},
   "outputs": [],
   "source": [
    "lst=['Pratibha','Antre']\n",
    "dict_arg={'age':29,'yob':2001}"
   ]
  },
  {
   "cell_type": "code",
   "execution_count": 32,
   "id": "edd410db",
   "metadata": {},
   "outputs": [
    {
     "name": "stdout",
     "output_type": "stream",
     "text": [
      "('Pratibha', 'Antre')\n",
      "{'age': 29, 'yob': 2001}\n"
     ]
    }
   ],
   "source": [
    "# list-positional arg, dict-keyword arg\n",
    "hello(*lst,**dict_arg)"
   ]
  },
  {
   "cell_type": "code",
   "execution_count": 33,
   "id": "ab436878",
   "metadata": {},
   "outputs": [],
   "source": [
    "list=[1,2,3,4,5,6,7,8,9]"
   ]
  },
  {
   "cell_type": "code",
   "execution_count": 37,
   "id": "ba179bf2",
   "metadata": {},
   "outputs": [],
   "source": [
    "def evenoddsum():\n",
    "    even_sum=0\n",
    "    odd_sum=0\n",
    "    for i in list:\n",
    "        if i%2==0:\n",
    "            even_sum=even_sum+1\n",
    "        else:\n",
    "            odd_sum=odd_sum+1\n",
    "    return even_sum,odd_sum"
   ]
  },
  {
   "cell_type": "code",
   "execution_count": 38,
   "id": "6165a64c",
   "metadata": {},
   "outputs": [
    {
     "data": {
      "text/plain": [
       "(4, 5)"
      ]
     },
     "execution_count": 38,
     "metadata": {},
     "output_type": "execute_result"
    }
   ],
   "source": [
    "evenoddsum()"
   ]
  },
  {
   "cell_type": "markdown",
   "id": "8a485092",
   "metadata": {},
   "source": [
    "# Map functions using python"
   ]
  },
  {
   "cell_type": "code",
   "execution_count": 3,
   "id": "a15023c1",
   "metadata": {},
   "outputs": [
    {
     "data": {
      "text/plain": [
       "'The number 24 is even'"
      ]
     },
     "execution_count": 3,
     "metadata": {},
     "output_type": "execute_result"
    }
   ],
   "source": [
    "def evenorodd(num):\n",
    "    if num%2==0:\n",
    "        return\"The number {} is even\".format(num)\n",
    "    else:\n",
    "        return\"The number {} is odd\" .format(num)\n",
    "evenorodd(24)"
   ]
  },
  {
   "cell_type": "code",
   "execution_count": 4,
   "id": "3af48088",
   "metadata": {},
   "outputs": [],
   "source": [
    "list1=(34,23,4,56,7,45)"
   ]
  },
  {
   "cell_type": "code",
   "execution_count": 5,
   "id": "8b63ffaa",
   "metadata": {},
   "outputs": [
    {
     "data": {
      "text/plain": [
       "['The number 34 is even',\n",
       " 'The number 23 is odd',\n",
       " 'The number 4 is even',\n",
       " 'The number 56 is even',\n",
       " 'The number 7 is odd',\n",
       " 'The number 45 is odd']"
      ]
     },
     "execution_count": 5,
     "metadata": {},
     "output_type": "execute_result"
    }
   ],
   "source": [
    "list(map(evenorodd,list1))"
   ]
  },
  {
   "cell_type": "markdown",
   "id": "20b18172",
   "metadata": {},
   "source": [
    "# Lambda Function"
   ]
  },
  {
   "cell_type": "markdown",
   "id": "c7987b11",
   "metadata": {},
   "source": [
    "### anonymous function -funtion with no name"
   ]
  },
  {
   "cell_type": "code",
   "execution_count": 10,
   "id": "7537855c",
   "metadata": {},
   "outputs": [
    {
     "data": {
      "text/plain": [
       "9"
      ]
     },
     "execution_count": 10,
     "metadata": {},
     "output_type": "execute_result"
    }
   ],
   "source": [
    "# Normal function\n",
    "def addition(a,b):\n",
    "    return a+b\n",
    "addition(4,5)"
   ]
  },
  {
   "cell_type": "code",
   "execution_count": 11,
   "id": "d9e40704",
   "metadata": {},
   "outputs": [],
   "source": [
    "# Lambda function\n",
    "addition=lambda a,b:a+b"
   ]
  },
  {
   "cell_type": "code",
   "execution_count": 12,
   "id": "f9d6e090",
   "metadata": {},
   "outputs": [
    {
     "data": {
      "text/plain": [
       "14"
      ]
     },
     "execution_count": 12,
     "metadata": {},
     "output_type": "execute_result"
    }
   ],
   "source": [
    "addition(10,4)"
   ]
  },
  {
   "cell_type": "code",
   "execution_count": 13,
   "id": "287b996e",
   "metadata": {},
   "outputs": [],
   "source": [
    "# lambda function\n",
    "\n",
    "even1=lambda a:a%2==0"
   ]
  },
  {
   "cell_type": "code",
   "execution_count": 14,
   "id": "58b34cd1",
   "metadata": {},
   "outputs": [
    {
     "data": {
      "text/plain": [
       "False"
      ]
     },
     "execution_count": 14,
     "metadata": {},
     "output_type": "execute_result"
    }
   ],
   "source": [
    "even1(3)"
   ]
  },
  {
   "cell_type": "code",
   "execution_count": 16,
   "id": "9e6090b1",
   "metadata": {},
   "outputs": [
    {
     "data": {
      "text/plain": [
       "6"
      ]
     },
     "execution_count": 16,
     "metadata": {},
     "output_type": "execute_result"
    }
   ],
   "source": [
    "# Lambda function\n",
    "addition=lambda a,b,c:a+b+c\n",
    "addition(1,2,3)"
   ]
  },
  {
   "cell_type": "markdown",
   "id": "c248486f",
   "metadata": {},
   "source": [
    "# Fiter function in python"
   ]
  },
  {
   "cell_type": "markdown",
   "id": "fcaea240",
   "metadata": {},
   "source": [
    "### Returns only True values"
   ]
  },
  {
   "cell_type": "code",
   "execution_count": 19,
   "id": "fd99f8ab",
   "metadata": {},
   "outputs": [],
   "source": [
    "# By normal function\n",
    "def even(num):\n",
    "    if num%2==0:\n",
    "        return True"
   ]
  },
  {
   "cell_type": "code",
   "execution_count": 20,
   "id": "40a52f19",
   "metadata": {},
   "outputs": [],
   "source": [
    "list1=[1,2,3,4,5,6,7,8,9]"
   ]
  },
  {
   "cell_type": "code",
   "execution_count": 21,
   "id": "ac0623ab",
   "metadata": {},
   "outputs": [
    {
     "data": {
      "text/plain": [
       "[2, 4, 6, 8]"
      ]
     },
     "execution_count": 21,
     "metadata": {},
     "output_type": "execute_result"
    }
   ],
   "source": [
    "list(filter(even,list1))"
   ]
  },
  {
   "cell_type": "code",
   "execution_count": 22,
   "id": "6b4a08de",
   "metadata": {},
   "outputs": [
    {
     "data": {
      "text/plain": [
       "[2, 4, 6, 8]"
      ]
     },
     "execution_count": 22,
     "metadata": {},
     "output_type": "execute_result"
    }
   ],
   "source": [
    "# Lambda function\n",
    "list(filter(lambda num:num%2==0,list1))"
   ]
  },
  {
   "cell_type": "code",
   "execution_count": null,
   "id": "3daca75f",
   "metadata": {},
   "outputs": [],
   "source": []
  }
 ],
 "metadata": {
  "kernelspec": {
   "display_name": "Python 3",
   "language": "python",
   "name": "python3"
  },
  "language_info": {
   "codemirror_mode": {
    "name": "ipython",
    "version": 3
   },
   "file_extension": ".py",
   "mimetype": "text/x-python",
   "name": "python",
   "nbconvert_exporter": "python",
   "pygments_lexer": "ipython3",
   "version": "3.8.8"
  }
 },
 "nbformat": 4,
 "nbformat_minor": 5
}
