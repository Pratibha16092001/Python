{
 "cells": [
  {
   "cell_type": "code",
   "execution_count": 2,
   "id": "bdd4a5ec",
   "metadata": {},
   "outputs": [
    {
     "name": "stdout",
     "output_type": "stream",
     "text": [
      "hello world\n"
     ]
    }
   ],
   "source": [
    "print('hello world')"
   ]
  },
  {
   "cell_type": "code",
   "execution_count": 3,
   "id": "506cd0eb",
   "metadata": {},
   "outputs": [
    {
     "name": "stdout",
     "output_type": "stream",
     "text": [
      "0 3 6 9 12 15 18 21 24 27 30 33 36 39 42 45 48 51 54 57 60 63 66 69 72 75 78 81 84 87 90 93 96 99 "
     ]
    }
   ],
   "source": [
    "i=0\n",
    "while(i<100):\n",
    "    if(i%3==0 & i%5==0):\n",
    "        print(i,end=' ')\n",
    "    i=i+1"
   ]
  },
  {
   "cell_type": "code",
   "execution_count": 3,
   "id": "b2fab0dc",
   "metadata": {},
   "outputs": [
    {
     "name": "stdout",
     "output_type": "stream",
     "text": [
      "grapes mango "
     ]
    }
   ],
   "source": [
    "fruits=['grapes','mango','coconut','banana']\n",
    "for i in fruits:\n",
    "    print(i,end=' ')\n",
    "    if(i=='mango'):\n",
    "        break"
   ]
  },
  {
   "cell_type": "code",
   "execution_count": 4,
   "id": "ba45b5c7",
   "metadata": {},
   "outputs": [
    {
     "name": "stdout",
     "output_type": "stream",
     "text": [
      "grapes "
     ]
    }
   ],
   "source": [
    "fruits=['grapes','mango','coconut','banana']\n",
    "for i in fruits:\n",
    "    if(i=='mango'):\n",
    "        break\n",
    "    print(i,end=' ')\n",
    "    "
   ]
  },
  {
   "cell_type": "code",
   "execution_count": 5,
   "id": "040aa943",
   "metadata": {},
   "outputs": [
    {
     "name": "stdout",
     "output_type": "stream",
     "text": [
      "grapes coconut banana "
     ]
    }
   ],
   "source": [
    "fruits=['grapes','mango','coconut','banana']\n",
    "for i in fruits:\n",
    "    if(i=='mango'):\n",
    "        continue\n",
    "    print(i,end=' ')"
   ]
  },
  {
   "cell_type": "code",
   "execution_count": 6,
   "id": "af6a4534",
   "metadata": {},
   "outputs": [
    {
     "name": "stdout",
     "output_type": "stream",
     "text": [
      "0 1 2 3 4 5 6 7 8 9 10 11 12 13 14 15 16 17 18 19 20 21 22 23 24 25 26 27 28 29 30 31 32 33 34 35 36 37 38 39 40 41 42 43 44 45 46 47 48 49 50 51 52 53 54 55 56 57 58 59 60 61 62 63 64 65 66 67 68 69 70 71 72 73 74 75 76 77 78 79 80 81 82 83 84 85 86 87 88 89 90 91 92 93 94 95 96 97 98 99 loop finished\n"
     ]
    }
   ],
   "source": [
    "for i in range(100):\n",
    "    print(i,end=\" \")\n",
    "else:\n",
    "    print('loop finished')"
   ]
  },
  {
   "cell_type": "code",
   "execution_count": 9,
   "id": "c89e76e6",
   "metadata": {},
   "outputs": [
    {
     "name": "stdout",
     "output_type": "stream",
     "text": [
      "red mango\n",
      "red apple\n",
      "red grapes\n",
      "big mango\n",
      "big apple\n",
      "big grapes\n",
      "sour mango\n",
      "sour apple\n",
      "sour grapes\n"
     ]
    }
   ],
   "source": [
    "adj=['red','big','sour']\n",
    "fruit=['mango','apple','grapes']\n",
    "\n",
    "for i in adj:\n",
    "    for x in fruit:\n",
    "        print(i,x)"
   ]
  },
  {
   "cell_type": "code",
   "execution_count": 10,
   "id": "56d88ce8",
   "metadata": {},
   "outputs": [],
   "source": [
    "str1=\"pratibha antre\""
   ]
  },
  {
   "cell_type": "code",
   "execution_count": 11,
   "id": "cbc8ef90",
   "metadata": {},
   "outputs": [
    {
     "data": {
      "text/plain": [
       "'pratibha antre'"
      ]
     },
     "execution_count": 11,
     "metadata": {},
     "output_type": "execute_result"
    }
   ],
   "source": [
    "str1"
   ]
  },
  {
   "cell_type": "code",
   "execution_count": 12,
   "id": "d2e07929",
   "metadata": {},
   "outputs": [
    {
     "data": {
      "text/plain": [
       "14"
      ]
     },
     "execution_count": 12,
     "metadata": {},
     "output_type": "execute_result"
    }
   ],
   "source": [
    "len(str1)"
   ]
  },
  {
   "cell_type": "code",
   "execution_count": 13,
   "id": "f95ed347",
   "metadata": {},
   "outputs": [
    {
     "data": {
      "text/plain": [
       "'Pratibha antre'"
      ]
     },
     "execution_count": 13,
     "metadata": {},
     "output_type": "execute_result"
    }
   ],
   "source": [
    "str1.capitalize()"
   ]
  },
  {
   "cell_type": "code",
   "execution_count": 14,
   "id": "0397f9f2",
   "metadata": {},
   "outputs": [
    {
     "data": {
      "text/plain": [
       "'pratibha antre'"
      ]
     },
     "execution_count": 14,
     "metadata": {},
     "output_type": "execute_result"
    }
   ],
   "source": [
    "str1.casefold()"
   ]
  },
  {
   "cell_type": "code",
   "execution_count": 15,
   "id": "946c1bf2",
   "metadata": {},
   "outputs": [
    {
     "data": {
      "text/plain": [
       "0"
      ]
     },
     "execution_count": 15,
     "metadata": {},
     "output_type": "execute_result"
    }
   ],
   "source": [
    "str1.count('f')"
   ]
  },
  {
   "cell_type": "code",
   "execution_count": 17,
   "id": "6794b00f",
   "metadata": {},
   "outputs": [
    {
     "data": {
      "text/plain": [
       "1"
      ]
     },
     "execution_count": 17,
     "metadata": {},
     "output_type": "execute_result"
    }
   ],
   "source": [
    "str1.count('p')"
   ]
  },
  {
   "cell_type": "code",
   "execution_count": 18,
   "id": "156e4e5f",
   "metadata": {},
   "outputs": [
    {
     "data": {
      "text/plain": [
       "0"
      ]
     },
     "execution_count": 18,
     "metadata": {},
     "output_type": "execute_result"
    }
   ],
   "source": [
    "str1.count('P')"
   ]
  },
  {
   "cell_type": "code",
   "execution_count": 20,
   "id": "b9bb4e9a",
   "metadata": {},
   "outputs": [
    {
     "data": {
      "text/plain": [
       "'****************pratibha antre***************'"
      ]
     },
     "execution_count": 20,
     "metadata": {},
     "output_type": "execute_result"
    }
   ],
   "source": [
    "str1.center(45,'*')"
   ]
  },
  {
   "cell_type": "code",
   "execution_count": 23,
   "id": "4a1b8e40",
   "metadata": {},
   "outputs": [
    {
     "data": {
      "text/plain": [
       "True"
      ]
     },
     "execution_count": 23,
     "metadata": {},
     "output_type": "execute_result"
    }
   ],
   "source": [
    "str1.endswith('e')"
   ]
  },
  {
   "cell_type": "raw",
   "id": "ddb39167",
   "metadata": {},
   "source": [
    "str1"
   ]
  },
  {
   "cell_type": "code",
   "execution_count": 24,
   "id": "d23db7a6",
   "metadata": {},
   "outputs": [
    {
     "data": {
      "text/plain": [
       "'pratibha antre'"
      ]
     },
     "execution_count": 24,
     "metadata": {},
     "output_type": "execute_result"
    }
   ],
   "source": [
    "str1"
   ]
  },
  {
   "cell_type": "code",
   "execution_count": 25,
   "id": "f4daf298",
   "metadata": {},
   "outputs": [
    {
     "data": {
      "text/plain": [
       "'PRATIBHA ANTRE'"
      ]
     },
     "execution_count": 25,
     "metadata": {},
     "output_type": "execute_result"
    }
   ],
   "source": [
    "str1.upper()"
   ]
  },
  {
   "cell_type": "code",
   "execution_count": 26,
   "id": "280a0427",
   "metadata": {},
   "outputs": [
    {
     "data": {
      "text/plain": [
       "'pratibha antre'"
      ]
     },
     "execution_count": 26,
     "metadata": {},
     "output_type": "execute_result"
    }
   ],
   "source": [
    "str1.lower()"
   ]
  },
  {
   "cell_type": "code",
   "execution_count": 30,
   "id": "f5f966c1",
   "metadata": {},
   "outputs": [
    {
     "name": "stdout",
     "output_type": "stream",
     "text": [
      "this product is for 75.000000 rupees\n"
     ]
    }
   ],
   "source": [
    "#formatting\n",
    "txt='this product is for {price:1f} rupees'\n",
    "print(txt.format(price=75))"
   ]
  },
  {
   "cell_type": "code",
   "execution_count": 49,
   "id": "c3903f86",
   "metadata": {},
   "outputs": [],
   "source": [
    "#placeholder\n",
    "\n",
    "#naming index\n",
    "txt1='my name is {fname},my age is {age}'.format(fname='kavya',age=4)\n",
    "\n",
    "#numbered index\n",
    "txt2='my name is {0}, my age is {1}, & my branch is {2}'.format('kavya',4,'comp')\n",
    "\n",
    "#blank\n",
    "txt3='my name is {}, my age is {}, & my branch is {}'.format('kavya',4,'comp')"
   ]
  },
  {
   "cell_type": "code",
   "execution_count": 50,
   "id": "27922eb3",
   "metadata": {},
   "outputs": [
    {
     "data": {
      "text/plain": [
       "'my name is kavya,my age is 4'"
      ]
     },
     "execution_count": 50,
     "metadata": {},
     "output_type": "execute_result"
    }
   ],
   "source": [
    "txt1"
   ]
  },
  {
   "cell_type": "code",
   "execution_count": 51,
   "id": "51d072a5",
   "metadata": {},
   "outputs": [
    {
     "data": {
      "text/plain": [
       "'my name is kavya, my age is 4, & my branch is comp'"
      ]
     },
     "execution_count": 51,
     "metadata": {},
     "output_type": "execute_result"
    }
   ],
   "source": [
    "txt2"
   ]
  },
  {
   "cell_type": "code",
   "execution_count": 52,
   "id": "49c8b471",
   "metadata": {},
   "outputs": [
    {
     "data": {
      "text/plain": [
       "'my name is kavya, my age is 4, & my branch is comp'"
      ]
     },
     "execution_count": 52,
     "metadata": {},
     "output_type": "execute_result"
    }
   ],
   "source": [
    "txt3"
   ]
  },
  {
   "cell_type": "code",
   "execution_count": 55,
   "id": "ada842a9",
   "metadata": {},
   "outputs": [
    {
     "name": "stdout",
     "output_type": "stream",
     "text": [
      "control is outside the function\n",
      "control came inside the function\n",
      "function executed\n"
     ]
    }
   ],
   "source": [
    "### functions\n",
    "\n",
    "def my_function():\n",
    "    print('control came inside the function')\n",
    "    \n",
    "print('control is outside the function')    \n",
    "my_function()\n",
    "print('function executed')"
   ]
  },
  {
   "cell_type": "code",
   "execution_count": null,
   "id": "9706f177",
   "metadata": {},
   "outputs": [],
   "source": [
    "branch='Satral'\n"
   ]
  }
 ],
 "metadata": {
  "kernelspec": {
   "display_name": "Python 3",
   "language": "python",
   "name": "python3"
  },
  "language_info": {
   "codemirror_mode": {
    "name": "ipython",
    "version": 3
   },
   "file_extension": ".py",
   "mimetype": "text/x-python",
   "name": "python",
   "nbconvert_exporter": "python",
   "pygments_lexer": "ipython3",
   "version": "3.8.8"
  }
 },
 "nbformat": 4,
 "nbformat_minor": 5
}
