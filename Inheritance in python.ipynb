{
 "cells": [
  {
   "cell_type": "markdown",
   "id": "c5886b8d",
   "metadata": {},
   "source": [
    "# Python OOPS -Inheritance"
   ]
  },
  {
   "cell_type": "code",
   "execution_count": 36,
   "id": "76467e07",
   "metadata": {},
   "outputs": [],
   "source": [
    "class Car():\n",
    "    def __init__(self,windows,doors,enginetype):\n",
    "        self.windows=windows\n",
    "        self.doors=doors\n",
    "        self.enginetype=enginetype\n",
    "    def drive(self):\n",
    "        print(\"The person drives the car\")"
   ]
  },
  {
   "cell_type": "code",
   "execution_count": 38,
   "id": "6bdeb88e",
   "metadata": {},
   "outputs": [],
   "source": [
    "car=Car(3,4,'petrol')"
   ]
  },
  {
   "cell_type": "code",
   "execution_count": 44,
   "id": "0c399b51",
   "metadata": {},
   "outputs": [
    {
     "data": {
      "text/plain": [
       "['__class__',\n",
       " '__delattr__',\n",
       " '__dict__',\n",
       " '__dir__',\n",
       " '__doc__',\n",
       " '__eq__',\n",
       " '__format__',\n",
       " '__ge__',\n",
       " '__getattribute__',\n",
       " '__gt__',\n",
       " '__hash__',\n",
       " '__init__',\n",
       " '__init_subclass__',\n",
       " '__le__',\n",
       " '__lt__',\n",
       " '__module__',\n",
       " '__ne__',\n",
       " '__new__',\n",
       " '__reduce__',\n",
       " '__reduce_ex__',\n",
       " '__repr__',\n",
       " '__setattr__',\n",
       " '__sizeof__',\n",
       " '__str__',\n",
       " '__subclasshook__',\n",
       " '__weakref__',\n",
       " 'drive']"
      ]
     },
     "execution_count": 44,
     "metadata": {},
     "output_type": "execute_result"
    }
   ],
   "source": [
    "dir(Car)"
   ]
  },
  {
   "cell_type": "code",
   "execution_count": 46,
   "id": "06334bbe",
   "metadata": {},
   "outputs": [
    {
     "data": {
      "text/plain": [
       "3"
      ]
     },
     "execution_count": 46,
     "metadata": {},
     "output_type": "execute_result"
    }
   ],
   "source": [
    "car.windows"
   ]
  },
  {
   "cell_type": "code",
   "execution_count": 47,
   "id": "75eb9fbd",
   "metadata": {},
   "outputs": [
    {
     "name": "stdout",
     "output_type": "stream",
     "text": [
      "The person drives the car\n"
     ]
    }
   ],
   "source": [
    "car.drive()"
   ]
  },
  {
   "cell_type": "code",
   "execution_count": 51,
   "id": "fdc714b9",
   "metadata": {},
   "outputs": [],
   "source": [
    "class audi(Car):\n",
    "    def __init__(self,windows,doors,enginetype,enableai):\n",
    "        super().__init__(windows,doors,enginetype)\n",
    "        self.enableai=enableai\n",
    "    def selfdriving(self):\n",
    "        print('Audi support self driving')\n",
    "    "
   ]
  },
  {
   "cell_type": "code",
   "execution_count": 52,
   "id": "b77aae9f",
   "metadata": {},
   "outputs": [],
   "source": [
    "audiQ7= audi(3,4,'Diesel',True)"
   ]
  },
  {
   "cell_type": "code",
   "execution_count": 53,
   "id": "48c47c88",
   "metadata": {},
   "outputs": [
    {
     "data": {
      "text/plain": [
       "3"
      ]
     },
     "execution_count": 53,
     "metadata": {},
     "output_type": "execute_result"
    }
   ],
   "source": [
    "audiQ7.windows"
   ]
  },
  {
   "cell_type": "markdown",
   "id": "c92d1e01",
   "metadata": {},
   "source": [
    "# Multiple inheritance in python"
   ]
  },
  {
   "cell_type": "code",
   "execution_count": 3,
   "id": "8eaee457",
   "metadata": {},
   "outputs": [],
   "source": [
    "class A:\n",
    "    def method(self):\n",
    "        print('A class method is called')"
   ]
  },
  {
   "cell_type": "code",
   "execution_count": 4,
   "id": "aacc12ae",
   "metadata": {},
   "outputs": [],
   "source": [
    "class B(A):\n",
    "    def method(self):\n",
    "        print('B class method is called')"
   ]
  },
  {
   "cell_type": "code",
   "execution_count": 5,
   "id": "e94a5e67",
   "metadata": {},
   "outputs": [],
   "source": [
    "class C(A):\n",
    "    def method(self):\n",
    "        print('C class method is called')"
   ]
  },
  {
   "cell_type": "code",
   "execution_count": 12,
   "id": "4ab28720",
   "metadata": {},
   "outputs": [],
   "source": [
    "class D(B,C):\n",
    "    def method(self):\n",
    "        print('D method is called')\n",
    "        C.method(self)\n",
    "        B.method(self)"
   ]
  },
  {
   "cell_type": "code",
   "execution_count": 13,
   "id": "246dcb67",
   "metadata": {},
   "outputs": [],
   "source": [
    "d=D()"
   ]
  },
  {
   "cell_type": "code",
   "execution_count": 14,
   "id": "dd97c13c",
   "metadata": {},
   "outputs": [
    {
     "name": "stdout",
     "output_type": "stream",
     "text": [
      "D method is called\n",
      "C class method is called\n",
      "B class method is called\n"
     ]
    }
   ],
   "source": [
    "d.method()"
   ]
  },
  {
   "cell_type": "markdown",
   "id": "cb67064e",
   "metadata": {},
   "source": [
    "ANother method"
   ]
  },
  {
   "cell_type": "code",
   "execution_count": 15,
   "id": "8c904caf",
   "metadata": {},
   "outputs": [
    {
     "name": "stdout",
     "output_type": "stream",
     "text": [
      "B class method is called\n"
     ]
    }
   ],
   "source": [
    "B.method(d)"
   ]
  },
  {
   "cell_type": "code",
   "execution_count": 16,
   "id": "c9719e2d",
   "metadata": {},
   "outputs": [
    {
     "name": "stdout",
     "output_type": "stream",
     "text": [
      "C class method is called\n"
     ]
    }
   ],
   "source": [
    "C.method(d)"
   ]
  },
  {
   "cell_type": "code",
   "execution_count": null,
   "id": "39c4e01d",
   "metadata": {},
   "outputs": [],
   "source": []
  }
 ],
 "metadata": {
  "kernelspec": {
   "display_name": "Python 3",
   "language": "python",
   "name": "python3"
  },
  "language_info": {
   "codemirror_mode": {
    "name": "ipython",
    "version": 3
   },
   "file_extension": ".py",
   "mimetype": "text/x-python",
   "name": "python",
   "nbconvert_exporter": "python",
   "pygments_lexer": "ipython3",
   "version": "3.8.8"
  }
 },
 "nbformat": 4,
 "nbformat_minor": 5
}
