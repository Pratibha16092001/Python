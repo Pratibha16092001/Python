{
 "cells": [
  {
   "cell_type": "markdown",
   "id": "12521476",
   "metadata": {},
   "source": [
    "# Python OOPS- Public ,Protected and Private"
   ]
  },
  {
   "cell_type": "code",
   "execution_count": 23,
   "id": "02433f61",
   "metadata": {},
   "outputs": [],
   "source": [
    "# All the class variables are public\n",
    "class car():\n",
    "    def __init__(self,windows,doors,enginetype):\n",
    "        self.windows=windows\n",
    "        self.doors=doors\n",
    "        self.enginetype=enginetype\n",
    "# Public variables can be override"
   ]
  },
  {
   "cell_type": "code",
   "execution_count": 24,
   "id": "dc2432f0",
   "metadata": {},
   "outputs": [],
   "source": [
    "audi=car(3,5,\"diesel\")"
   ]
  },
  {
   "cell_type": "code",
   "execution_count": 25,
   "id": "43eee1e4",
   "metadata": {},
   "outputs": [],
   "source": [
    "audi.windows=6"
   ]
  },
  {
   "cell_type": "code",
   "execution_count": 26,
   "id": "70b5923a",
   "metadata": {},
   "outputs": [
    {
     "data": {
      "text/plain": [
       "6"
      ]
     },
     "execution_count": 26,
     "metadata": {},
     "output_type": "execute_result"
    }
   ],
   "source": [
    "audi.windows"
   ]
  },
  {
   "cell_type": "code",
   "execution_count": 41,
   "id": "d144e22c",
   "metadata": {},
   "outputs": [],
   "source": [
    "# Protected\n",
    "# All the class variables are protected\n",
    "class car():\n",
    "    def __init__(self,windows,doors,enginetype):\n",
    "        self._windows=windows\n",
    "        self._doors=doors\n",
    "        self._enginetype=enginetype"
   ]
  },
  {
   "cell_type": "code",
   "execution_count": 52,
   "id": "261f5a9d",
   "metadata": {},
   "outputs": [],
   "source": [
    "class Truck(car):\n",
    "    def __init__(self,windows,doors,enginetype,horsepower):\n",
    "        super().__init__(windows,doors,enginetype)\n",
    "        self.horsepower=horsepower"
   ]
  },
  {
   "cell_type": "code",
   "execution_count": 53,
   "id": "49f0a9f2",
   "metadata": {},
   "outputs": [],
   "source": [
    "truck=Truck(3,4,'petrol',4500)"
   ]
  },
  {
   "cell_type": "code",
   "execution_count": 54,
   "id": "7b4a451b",
   "metadata": {},
   "outputs": [
    {
     "data": {
      "text/plain": [
       "['__class__',\n",
       " '__delattr__',\n",
       " '__dict__',\n",
       " '__dir__',\n",
       " '__doc__',\n",
       " '__eq__',\n",
       " '__format__',\n",
       " '__ge__',\n",
       " '__getattribute__',\n",
       " '__gt__',\n",
       " '__hash__',\n",
       " '__init__',\n",
       " '__init_subclass__',\n",
       " '__le__',\n",
       " '__lt__',\n",
       " '__module__',\n",
       " '__ne__',\n",
       " '__new__',\n",
       " '__reduce__',\n",
       " '__reduce_ex__',\n",
       " '__repr__',\n",
       " '__setattr__',\n",
       " '__sizeof__',\n",
       " '__str__',\n",
       " '__subclasshook__',\n",
       " '__weakref__',\n",
       " '_doors',\n",
       " '_enginetype',\n",
       " '_windows',\n",
       " 'horsepower']"
      ]
     },
     "execution_count": 54,
     "metadata": {},
     "output_type": "execute_result"
    }
   ],
   "source": [
    "dir(truck)"
   ]
  },
  {
   "cell_type": "markdown",
   "id": "c074d878",
   "metadata": {},
   "source": [
    "Only child class truck can override this perticular values"
   ]
  },
  {
   "cell_type": "code",
   "execution_count": 58,
   "id": "e6bd9353",
   "metadata": {},
   "outputs": [],
   "source": [
    "truck._doors=5"
   ]
  },
  {
   "cell_type": "code",
   "execution_count": 59,
   "id": "b3b2defb",
   "metadata": {},
   "outputs": [
    {
     "data": {
      "text/plain": [
       "5"
      ]
     },
     "execution_count": 59,
     "metadata": {},
     "output_type": "execute_result"
    }
   ],
   "source": [
    "truck._doors"
   ]
  },
  {
   "cell_type": "code",
   "execution_count": 65,
   "id": "c975f5dd",
   "metadata": {},
   "outputs": [],
   "source": [
    "# Private\n",
    "# Cannot be accessed and modified outside the class\n",
    "class car():\n",
    "    def __init__(self,windows,doors,enginetype):\n",
    "        self.__windows=windows\n",
    "        self.__doors=doors\n",
    "        self.__enginetype=enginetype"
   ]
  },
  {
   "cell_type": "code",
   "execution_count": 66,
   "id": "72196abe",
   "metadata": {},
   "outputs": [],
   "source": [
    "audi=(3,4,'petrol')"
   ]
  },
  {
   "cell_type": "code",
   "execution_count": 68,
   "id": "37159333",
   "metadata": {},
   "outputs": [
    {
     "data": {
      "text/plain": [
       "['__add__',\n",
       " '__class__',\n",
       " '__contains__',\n",
       " '__delattr__',\n",
       " '__dir__',\n",
       " '__doc__',\n",
       " '__eq__',\n",
       " '__format__',\n",
       " '__ge__',\n",
       " '__getattribute__',\n",
       " '__getitem__',\n",
       " '__getnewargs__',\n",
       " '__gt__',\n",
       " '__hash__',\n",
       " '__init__',\n",
       " '__init_subclass__',\n",
       " '__iter__',\n",
       " '__le__',\n",
       " '__len__',\n",
       " '__lt__',\n",
       " '__mul__',\n",
       " '__ne__',\n",
       " '__new__',\n",
       " '__reduce__',\n",
       " '__reduce_ex__',\n",
       " '__repr__',\n",
       " '__rmul__',\n",
       " '__setattr__',\n",
       " '__sizeof__',\n",
       " '__str__',\n",
       " '__subclasshook__',\n",
       " 'count',\n",
       " 'index']"
      ]
     },
     "execution_count": 68,
     "metadata": {},
     "output_type": "execute_result"
    }
   ],
   "source": [
    "dir(audi)"
   ]
  },
  {
   "cell_type": "code",
   "execution_count": null,
   "id": "bc9260b8",
   "metadata": {},
   "outputs": [],
   "source": []
  }
 ],
 "metadata": {
  "kernelspec": {
   "display_name": "Python 3",
   "language": "python",
   "name": "python3"
  },
  "language_info": {
   "codemirror_mode": {
    "name": "ipython",
    "version": 3
   },
   "file_extension": ".py",
   "mimetype": "text/x-python",
   "name": "python",
   "nbconvert_exporter": "python",
   "pygments_lexer": "ipython3",
   "version": "3.8.8"
  }
 },
 "nbformat": 4,
 "nbformat_minor": 5
}
