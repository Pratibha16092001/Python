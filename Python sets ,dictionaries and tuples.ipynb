{
 "cells": [
  {
   "cell_type": "markdown",
   "id": "b77f805d",
   "metadata": {},
   "source": [
    "# Boolean"
   ]
  },
  {
   "cell_type": "markdown",
   "id": "cb609dd7",
   "metadata": {},
   "source": [
    "It checks whether the given value is true or false"
   ]
  },
  {
   "cell_type": "code",
   "execution_count": 1,
   "id": "3fd8ae18",
   "metadata": {},
   "outputs": [],
   "source": [
    "my_str='Pratibha123'"
   ]
  },
  {
   "cell_type": "code",
   "execution_count": 2,
   "id": "9f8443f5",
   "metadata": {},
   "outputs": [
    {
     "name": "stdout",
     "output_type": "stream",
     "text": [
      "True\n",
      "False\n",
      "False\n",
      "True\n",
      "False\n",
      "False\n",
      "False\n",
      "False\n",
      "True\n"
     ]
    }
   ],
   "source": [
    "print(my_str.isalnum()) #check if all char are numbers\n",
    "print(my_str.isalpha()) #check if all the char in the string are alphanumeric\n",
    "print(my_str.isdigit()) #test if string contains digits\n",
    "print(my_str.istitle()) #test if string contains title words\n",
    "print(my_str.isupper()) #test if string contains upper case\n",
    "print(my_str.islower()) #test if string contains lower case\n",
    "print(my_str.isspace()) #test if string contains space\n",
    "print(my_str.endswith('w')) #test if string endswith a\n",
    "print(my_str.startswith('P')) #test if string startswith p"
   ]
  },
  {
   "cell_type": "markdown",
   "id": "8b435782",
   "metadata": {},
   "source": [
    "# Boolean and logical operators"
   ]
  },
  {
   "cell_type": "code",
   "execution_count": 3,
   "id": "6be61cab",
   "metadata": {},
   "outputs": [
    {
     "data": {
      "text/plain": [
       "True"
      ]
     },
     "execution_count": 3,
     "metadata": {},
     "output_type": "execute_result"
    }
   ],
   "source": [
    "True and True"
   ]
  },
  {
   "cell_type": "code",
   "execution_count": 4,
   "id": "0c9be757",
   "metadata": {},
   "outputs": [
    {
     "data": {
      "text/plain": [
       "False"
      ]
     },
     "execution_count": 4,
     "metadata": {},
     "output_type": "execute_result"
    }
   ],
   "source": [
    "True and False"
   ]
  },
  {
   "cell_type": "code",
   "execution_count": 5,
   "id": "801bf942",
   "metadata": {},
   "outputs": [
    {
     "data": {
      "text/plain": [
       "True"
      ]
     },
     "execution_count": 5,
     "metadata": {},
     "output_type": "execute_result"
    }
   ],
   "source": [
    "True or True"
   ]
  },
  {
   "cell_type": "code",
   "execution_count": 6,
   "id": "ff305607",
   "metadata": {},
   "outputs": [
    {
     "data": {
      "text/plain": [
       "True"
      ]
     },
     "execution_count": 6,
     "metadata": {},
     "output_type": "execute_result"
    }
   ],
   "source": [
    "False or True"
   ]
  },
  {
   "cell_type": "markdown",
   "id": "6da5dfca",
   "metadata": {},
   "source": [
    "# Lists"
   ]
  },
  {
   "cell_type": "markdown",
   "id": "13ae6089",
   "metadata": {},
   "source": [
    "mutable and oradered sequence elements"
   ]
  },
  {
   "cell_type": "code",
   "execution_count": 7,
   "id": "15537893",
   "metadata": {},
   "outputs": [
    {
     "data": {
      "text/plain": [
       "list"
      ]
     },
     "execution_count": 7,
     "metadata": {},
     "output_type": "execute_result"
    }
   ],
   "source": [
    "type([])"
   ]
  },
  {
   "cell_type": "code",
   "execution_count": 8,
   "id": "df271612",
   "metadata": {},
   "outputs": [],
   "source": [
    "list1=[]"
   ]
  },
  {
   "cell_type": "code",
   "execution_count": 9,
   "id": "273acab8",
   "metadata": {},
   "outputs": [
    {
     "data": {
      "text/plain": [
       "list"
      ]
     },
     "execution_count": 9,
     "metadata": {},
     "output_type": "execute_result"
    }
   ],
   "source": [
    "type(list1)"
   ]
  },
  {
   "cell_type": "code",
   "execution_count": 10,
   "id": "468e4d3d",
   "metadata": {},
   "outputs": [
    {
     "data": {
      "text/plain": [
       "['math', 'sci', 100, 200]"
      ]
     },
     "execution_count": 10,
     "metadata": {},
     "output_type": "execute_result"
    }
   ],
   "source": [
    "list2=['math','sci',100,200]\n",
    "list2"
   ]
  },
  {
   "cell_type": "code",
   "execution_count": 11,
   "id": "156b15dc",
   "metadata": {},
   "outputs": [
    {
     "data": {
      "text/plain": [
       "4"
      ]
     },
     "execution_count": 11,
     "metadata": {},
     "output_type": "execute_result"
    }
   ],
   "source": [
    "len(list2)"
   ]
  },
  {
   "cell_type": "markdown",
   "id": "a918ecc1",
   "metadata": {},
   "source": [
    "# Append"
   ]
  },
  {
   "cell_type": "code",
   "execution_count": 12,
   "id": "ae9ad988",
   "metadata": {},
   "outputs": [
    {
     "data": {
      "text/plain": [
       "['pratibha']"
      ]
     },
     "execution_count": 12,
     "metadata": {},
     "output_type": "execute_result"
    }
   ],
   "source": [
    "list1.append('pratibha')\n",
    "list1"
   ]
  },
  {
   "cell_type": "code",
   "execution_count": 13,
   "id": "19475f64",
   "metadata": {},
   "outputs": [
    {
     "data": {
      "text/plain": [
       "200"
      ]
     },
     "execution_count": 13,
     "metadata": {},
     "output_type": "execute_result"
    }
   ],
   "source": [
    "#indexing\n",
    "list2[3]"
   ]
  },
  {
   "cell_type": "code",
   "execution_count": 14,
   "id": "e22d604d",
   "metadata": {},
   "outputs": [
    {
     "name": "stdout",
     "output_type": "stream",
     "text": [
      "[]\n",
      "[100]\n"
     ]
    }
   ],
   "source": [
    "#By range\n",
    "print(list1[1:])\n",
    "print(list2[2:3])"
   ]
  },
  {
   "cell_type": "markdown",
   "id": "f1643d88",
   "metadata": {},
   "source": [
    "# Insert"
   ]
  },
  {
   "cell_type": "code",
   "execution_count": 15,
   "id": "83f5798f",
   "metadata": {},
   "outputs": [],
   "source": [
    "list2.insert(2,4) #(position,value)"
   ]
  },
  {
   "cell_type": "code",
   "execution_count": 16,
   "id": "3d31171f",
   "metadata": {},
   "outputs": [
    {
     "data": {
      "text/plain": [
       "['math', 'sci', 4, 100, 200]"
      ]
     },
     "execution_count": 16,
     "metadata": {},
     "output_type": "execute_result"
    }
   ],
   "source": [
    "list2"
   ]
  },
  {
   "cell_type": "markdown",
   "id": "4bbcf9d8",
   "metadata": {},
   "source": [
    "# Extend"
   ]
  },
  {
   "cell_type": "code",
   "execution_count": 17,
   "id": "d5878c46",
   "metadata": {},
   "outputs": [],
   "source": [
    "list1.extend([5,6,7])"
   ]
  },
  {
   "cell_type": "code",
   "execution_count": 18,
   "id": "3df9b0e5",
   "metadata": {},
   "outputs": [
    {
     "data": {
      "text/plain": [
       "['pratibha', 5, 6, 7]"
      ]
     },
     "execution_count": 18,
     "metadata": {},
     "output_type": "execute_result"
    }
   ],
   "source": [
    "list1"
   ]
  },
  {
   "cell_type": "markdown",
   "id": "bcdb3acc",
   "metadata": {},
   "source": [
    "# Various operations can perform on list"
   ]
  },
  {
   "cell_type": "code",
   "execution_count": 19,
   "id": "0b8022e7",
   "metadata": {},
   "outputs": [
    {
     "data": {
      "text/plain": [
       "25"
      ]
     },
     "execution_count": 19,
     "metadata": {},
     "output_type": "execute_result"
    }
   ],
   "source": [
    "list3=[3,4,5,6,7]\n",
    "sum(list3)"
   ]
  },
  {
   "cell_type": "code",
   "execution_count": 20,
   "id": "58da75a0",
   "metadata": {},
   "outputs": [
    {
     "data": {
      "text/plain": [
       "7"
      ]
     },
     "execution_count": 20,
     "metadata": {},
     "output_type": "execute_result"
    }
   ],
   "source": [
    "list3.pop() #pop the last position element"
   ]
  },
  {
   "cell_type": "code",
   "execution_count": 21,
   "id": "497516d5",
   "metadata": {},
   "outputs": [
    {
     "data": {
      "text/plain": [
       "5"
      ]
     },
     "execution_count": 21,
     "metadata": {},
     "output_type": "execute_result"
    }
   ],
   "source": [
    "list3.pop(2) #Pop the position 2nd element"
   ]
  },
  {
   "cell_type": "code",
   "execution_count": 22,
   "id": "4bafc29e",
   "metadata": {},
   "outputs": [
    {
     "data": {
      "text/plain": [
       "[3, 4, 6]"
      ]
     },
     "execution_count": 22,
     "metadata": {},
     "output_type": "execute_result"
    }
   ],
   "source": [
    "list3"
   ]
  },
  {
   "cell_type": "markdown",
   "id": "25681e67",
   "metadata": {},
   "source": [
    "# Count:Calculates total occurance of given element in the list"
   ]
  },
  {
   "cell_type": "code",
   "execution_count": 26,
   "id": "b01abfa5",
   "metadata": {},
   "outputs": [],
   "source": [
    "list4=[2,3,4,5,6,2,4,5]"
   ]
  },
  {
   "cell_type": "code",
   "execution_count": 27,
   "id": "ea265c92",
   "metadata": {},
   "outputs": [
    {
     "data": {
      "text/plain": [
       "2"
      ]
     },
     "execution_count": 27,
     "metadata": {},
     "output_type": "execute_result"
    }
   ],
   "source": [
    "list4.count(2)"
   ]
  },
  {
   "cell_type": "code",
   "execution_count": 28,
   "id": "e96e53b9",
   "metadata": {},
   "outputs": [
    {
     "data": {
      "text/plain": [
       "8"
      ]
     },
     "execution_count": 28,
     "metadata": {},
     "output_type": "execute_result"
    }
   ],
   "source": [
    "#length calculates total lenth of list\n",
    "len(list4)"
   ]
  },
  {
   "cell_type": "code",
   "execution_count": 29,
   "id": "ec047f7c",
   "metadata": {},
   "outputs": [
    {
     "data": {
      "text/plain": [
       "1"
      ]
     },
     "execution_count": 29,
     "metadata": {},
     "output_type": "execute_result"
    }
   ],
   "source": [
    "#index() Returns the index of first appearance\n",
    "list4.index(3)"
   ]
  },
  {
   "cell_type": "code",
   "execution_count": 30,
   "id": "9494213b",
   "metadata": {},
   "outputs": [
    {
     "name": "stdout",
     "output_type": "stream",
     "text": [
      "2\n",
      "6\n"
     ]
    }
   ],
   "source": [
    "#min() and max()\n",
    "print(min(list4))\n",
    "print(max(list4))"
   ]
  },
  {
   "cell_type": "code",
   "execution_count": 31,
   "id": "f588c807",
   "metadata": {},
   "outputs": [
    {
     "data": {
      "text/plain": [
       "[2, 3, 4, 5, 6, 2, 4, 5, 2, 3, 4, 5, 6, 2, 4, 5]"
      ]
     },
     "execution_count": 31,
     "metadata": {},
     "output_type": "execute_result"
    }
   ],
   "source": [
    "#list_name*n = Lists will the appear n times\n",
    "list4*2"
   ]
  },
  {
   "cell_type": "markdown",
   "id": "6fc2ab18",
   "metadata": {},
   "source": [
    "# Sets"
   ]
  },
  {
   "cell_type": "markdown",
   "id": "4a400712",
   "metadata": {},
   "source": [
    "unordered collection data, iterable, mutable and no duplicate elements"
   ]
  },
  {
   "cell_type": "code",
   "execution_count": 32,
   "id": "2bdefbce",
   "metadata": {},
   "outputs": [
    {
     "name": "stdout",
     "output_type": "stream",
     "text": [
      "{1, 2, 3, 4}\n"
     ]
    },
    {
     "data": {
      "text/plain": [
       "set"
      ]
     },
     "execution_count": 32,
     "metadata": {},
     "output_type": "execute_result"
    }
   ],
   "source": [
    "set1={1,2,3,4,3}\n",
    "print(set1)\n",
    "type(set1)"
   ]
  },
  {
   "cell_type": "code",
   "execution_count": 33,
   "id": "6f012c33",
   "metadata": {},
   "outputs": [],
   "source": [
    "#add() to add element in sets\n",
    "set1.add(5)"
   ]
  },
  {
   "cell_type": "code",
   "execution_count": 34,
   "id": "fca16d8d",
   "metadata": {},
   "outputs": [
    {
     "data": {
      "text/plain": [
       "{1, 2, 3, 4, 5}"
      ]
     },
     "execution_count": 34,
     "metadata": {},
     "output_type": "execute_result"
    }
   ],
   "source": [
    "set1"
   ]
  },
  {
   "cell_type": "code",
   "execution_count": 35,
   "id": "1b89a1b0",
   "metadata": {},
   "outputs": [],
   "source": [
    "#Difference\n",
    "set2={'pratibha','divya', 'Pratika'}\n",
    "set3={'pratibha','divya'}"
   ]
  },
  {
   "cell_type": "code",
   "execution_count": 36,
   "id": "34018069",
   "metadata": {},
   "outputs": [
    {
     "data": {
      "text/plain": [
       "set()"
      ]
     },
     "execution_count": 36,
     "metadata": {},
     "output_type": "execute_result"
    }
   ],
   "source": [
    "set3.difference(set2)"
   ]
  },
  {
   "cell_type": "code",
   "execution_count": 37,
   "id": "378a9710",
   "metadata": {},
   "outputs": [
    {
     "data": {
      "text/plain": [
       "{'Pratika'}"
      ]
     },
     "execution_count": 37,
     "metadata": {},
     "output_type": "execute_result"
    }
   ],
   "source": [
    "set2.difference(set3)"
   ]
  },
  {
   "cell_type": "code",
   "execution_count": 39,
   "id": "d9800d4c",
   "metadata": {},
   "outputs": [
    {
     "data": {
      "text/plain": [
       "{'Pratika', 'divya', 'pratibha'}"
      ]
     },
     "execution_count": 39,
     "metadata": {},
     "output_type": "execute_result"
    }
   ],
   "source": [
    "#set_difference update() #update value in respective set\n",
    "set2.difference_update(set1)\n",
    "set2"
   ]
  },
  {
   "cell_type": "code",
   "execution_count": 40,
   "id": "a25c3e40",
   "metadata": {},
   "outputs": [
    {
     "data": {
      "text/plain": [
       "{'divya', 'pratibha'}"
      ]
     },
     "execution_count": 40,
     "metadata": {},
     "output_type": "execute_result"
    }
   ],
   "source": [
    "set3"
   ]
  },
  {
   "cell_type": "code",
   "execution_count": 41,
   "id": "1ada2c6e",
   "metadata": {},
   "outputs": [
    {
     "data": {
      "text/plain": [
       "{'divya', 'pratibha'}"
      ]
     },
     "execution_count": 41,
     "metadata": {},
     "output_type": "execute_result"
    }
   ],
   "source": [
    "#intersection\n",
    "set2.intersection(set3)"
   ]
  },
  {
   "cell_type": "markdown",
   "id": "ff07fa17",
   "metadata": {},
   "source": [
    "# Dictionary"
   ]
  },
  {
   "cell_type": "markdown",
   "id": "0bf0ca78",
   "metadata": {},
   "source": [
    "# unordered collection, changeable and indexed having key and values"
   ]
  },
  {
   "cell_type": "code",
   "execution_count": 1,
   "id": "27ff55f4",
   "metadata": {},
   "outputs": [],
   "source": [
    "dict1={}"
   ]
  },
  {
   "cell_type": "code",
   "execution_count": 2,
   "id": "4b02c831",
   "metadata": {},
   "outputs": [
    {
     "data": {
      "text/plain": [
       "dict"
      ]
     },
     "execution_count": 2,
     "metadata": {},
     "output_type": "execute_result"
    }
   ],
   "source": [
    "type(dict1)"
   ]
  },
  {
   "cell_type": "code",
   "execution_count": 5,
   "id": "90f420f4",
   "metadata": {},
   "outputs": [],
   "source": [
    "dict2={'car1':'audi','car2':'honda','car3':'swift'}"
   ]
  },
  {
   "cell_type": "code",
   "execution_count": 6,
   "id": "c0b3817a",
   "metadata": {},
   "outputs": [
    {
     "data": {
      "text/plain": [
       "{'car1': 'audi', 'car2': 'honda', 'car3': 'swift'}"
      ]
     },
     "execution_count": 6,
     "metadata": {},
     "output_type": "execute_result"
    }
   ],
   "source": [
    "dict2"
   ]
  },
  {
   "cell_type": "code",
   "execution_count": 10,
   "id": "46cee336",
   "metadata": {},
   "outputs": [
    {
     "data": {
      "text/plain": [
       "'audi'"
      ]
     },
     "execution_count": 10,
     "metadata": {},
     "output_type": "execute_result"
    }
   ],
   "source": [
    "#Access items based on key vaalues\n",
    "dict2['car1']"
   ]
  },
  {
   "cell_type": "code",
   "execution_count": 13,
   "id": "58fc8bdd",
   "metadata": {},
   "outputs": [
    {
     "name": "stdout",
     "output_type": "stream",
     "text": [
      "car1\n",
      "car2\n",
      "car3\n"
     ]
    }
   ],
   "source": [
    "#Access keys by using loop\n",
    "for x in dict2:\n",
    "    print(x)"
   ]
  },
  {
   "cell_type": "code",
   "execution_count": 15,
   "id": "b5801331",
   "metadata": {},
   "outputs": [
    {
     "name": "stdout",
     "output_type": "stream",
     "text": [
      "audi\n",
      "honda\n",
      "swift\n"
     ]
    }
   ],
   "source": [
    "#Access values by usiing loop\n",
    "for x in dict2.values():\n",
    "    print(x)"
   ]
  },
  {
   "cell_type": "code",
   "execution_count": 16,
   "id": "65b329b7",
   "metadata": {},
   "outputs": [
    {
     "name": "stdout",
     "output_type": "stream",
     "text": [
      "('car1', 'audi')\n",
      "('car2', 'honda')\n",
      "('car3', 'swift')\n"
     ]
    }
   ],
   "source": [
    "# Access both keys and values\n",
    "for x in dict2.items():\n",
    "    print(x)"
   ]
  },
  {
   "cell_type": "code",
   "execution_count": 19,
   "id": "7670f3e8",
   "metadata": {},
   "outputs": [
    {
     "data": {
      "text/plain": [
       "{'car1': 'audi', 'car2': 'honda', 'car3': 'swift', 'car4': 'Audi 2.0'}"
      ]
     },
     "execution_count": 19,
     "metadata": {},
     "output_type": "execute_result"
    }
   ],
   "source": [
    "# Adding new item in dictionary\n",
    "dict2['car4']='Audi 2.0'\n",
    "dict2"
   ]
  },
  {
   "cell_type": "code",
   "execution_count": 22,
   "id": "72e8a4a7",
   "metadata": {},
   "outputs": [
    {
     "data": {
      "text/plain": [
       "{'car1': 'maruti', 'car2': 'honda', 'car3': 'swift', 'car4': 'Audi 2.0'}"
      ]
     },
     "execution_count": 22,
     "metadata": {},
     "output_type": "execute_result"
    }
   ],
   "source": [
    "# Replace value\n",
    "dict2['car1']='maruti'\n",
    "dict2"
   ]
  },
  {
   "cell_type": "markdown",
   "id": "6a75f3a0",
   "metadata": {},
   "source": [
    "# Nested dictionary"
   ]
  },
  {
   "cell_type": "code",
   "execution_count": 23,
   "id": "5823e907",
   "metadata": {},
   "outputs": [
    {
     "data": {
      "text/plain": [
       "{'car1': {'mercedes': '1960'},\n",
       " 'car2': {'maruti': '1970'},\n",
       " 'car3': {'honda': '1980'}}"
      ]
     },
     "execution_count": 23,
     "metadata": {},
     "output_type": "execute_result"
    }
   ],
   "source": [
    "car1_model={'mercedes':'1960'}\n",
    "car2_model={'maruti':\"1970\"}\n",
    "car3_model={'honda':\"1980\"}\n",
    "\n",
    "car_model={\"car1\":car1_model,'car2':car2_model,\"car3\":car3_model}\n",
    "car_model"
   ]
  },
  {
   "cell_type": "code",
   "execution_count": 24,
   "id": "e5587e3d",
   "metadata": {},
   "outputs": [
    {
     "data": {
      "text/plain": [
       "dict"
      ]
     },
     "execution_count": 24,
     "metadata": {},
     "output_type": "execute_result"
    }
   ],
   "source": [
    "type(car_model)"
   ]
  },
  {
   "cell_type": "code",
   "execution_count": 28,
   "id": "e907ac30",
   "metadata": {},
   "outputs": [
    {
     "data": {
      "text/plain": [
       "'1960'"
      ]
     },
     "execution_count": 28,
     "metadata": {},
     "output_type": "execute_result"
    }
   ],
   "source": [
    "# Accessing the items in nested dictionary\n",
    "car_model['car1']['mercedes']"
   ]
  },
  {
   "cell_type": "markdown",
   "id": "26124bfd",
   "metadata": {},
   "source": [
    "# Tuple"
   ]
  },
  {
   "cell_type": "markdown",
   "id": "4756a870",
   "metadata": {},
   "source": [
    "Cannot perform any operation on tuple only index and count is there"
   ]
  },
  {
   "cell_type": "code",
   "execution_count": 29,
   "id": "7bd75c31",
   "metadata": {},
   "outputs": [],
   "source": [
    "#Create an empty tuple\n",
    "tuple1=('pratibha','divya','pratika')"
   ]
  },
  {
   "cell_type": "code",
   "execution_count": 30,
   "id": "40bf0cbe",
   "metadata": {},
   "outputs": [
    {
     "data": {
      "text/plain": [
       "tuple"
      ]
     },
     "execution_count": 30,
     "metadata": {},
     "output_type": "execute_result"
    }
   ],
   "source": [
    "type(tuple1)"
   ]
  },
  {
   "cell_type": "code",
   "execution_count": 31,
   "id": "94fcc500",
   "metadata": {},
   "outputs": [
    {
     "data": {
      "text/plain": [
       "('pratibha', 'divya', 'pratika')"
      ]
     },
     "execution_count": 31,
     "metadata": {},
     "output_type": "execute_result"
    }
   ],
   "source": [
    "tuple1"
   ]
  },
  {
   "cell_type": "code",
   "execution_count": 32,
   "id": "385c5d76",
   "metadata": {},
   "outputs": [
    {
     "data": {
      "text/plain": [
       "1"
      ]
     },
     "execution_count": 32,
     "metadata": {},
     "output_type": "execute_result"
    }
   ],
   "source": [
    "# Inbuilt function\n",
    "tuple1.count('pratibha')"
   ]
  },
  {
   "cell_type": "code",
   "execution_count": 33,
   "id": "eac3b69e",
   "metadata": {},
   "outputs": [
    {
     "data": {
      "text/plain": [
       "2"
      ]
     },
     "execution_count": 33,
     "metadata": {},
     "output_type": "execute_result"
    }
   ],
   "source": [
    "tuple1.index('pratika')"
   ]
  },
  {
   "cell_type": "code",
   "execution_count": null,
   "id": "da39ef29",
   "metadata": {},
   "outputs": [],
   "source": []
  }
 ],
 "metadata": {
  "kernelspec": {
   "display_name": "Python 3",
   "language": "python",
   "name": "python3"
  },
  "language_info": {
   "codemirror_mode": {
    "name": "ipython",
    "version": 3
   },
   "file_extension": ".py",
   "mimetype": "text/x-python",
   "name": "python",
   "nbconvert_exporter": "python",
   "pygments_lexer": "ipython3",
   "version": "3.8.8"
  }
 },
 "nbformat": 4,
 "nbformat_minor": 5
}
