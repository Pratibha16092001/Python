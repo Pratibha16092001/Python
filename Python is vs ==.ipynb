{
 "cells": [
  {
   "cell_type": "markdown",
   "id": "20e412c8",
   "metadata": {},
   "source": [
    "# Python is vs =="
   ]
  },
  {
   "cell_type": "code",
   "execution_count": 2,
   "id": "ed435252",
   "metadata": {},
   "outputs": [
    {
     "data": {
      "text/plain": [
       "True"
      ]
     },
     "execution_count": 2,
     "metadata": {},
     "output_type": "execute_result"
    }
   ],
   "source": [
    "list1=['pratibha','divya','pratika']\n",
    "list2=['pratibha','divya','pratika']\n",
    "list1==list2"
   ]
  },
  {
   "cell_type": "code",
   "execution_count": 3,
   "id": "2304e3f2",
   "metadata": {},
   "outputs": [],
   "source": [
    "# is Check elements are equal or not"
   ]
  },
  {
   "cell_type": "code",
   "execution_count": 4,
   "id": "17f0b600",
   "metadata": {},
   "outputs": [
    {
     "data": {
      "text/plain": [
       "False"
      ]
     },
     "execution_count": 4,
     "metadata": {},
     "output_type": "execute_result"
    }
   ],
   "source": [
    "list1 is list2"
   ]
  },
  {
   "cell_type": "code",
   "execution_count": 5,
   "id": "c9504853",
   "metadata": {},
   "outputs": [
    {
     "data": {
      "text/plain": [
       "True"
      ]
     },
     "execution_count": 5,
     "metadata": {},
     "output_type": "execute_result"
    }
   ],
   "source": [
    "list1=['pratibha','divya','pratika']\n",
    "list2=list1\n",
    "list1 is list2"
   ]
  },
  {
   "cell_type": "code",
   "execution_count": 6,
   "id": "547d9336",
   "metadata": {},
   "outputs": [],
   "source": [
    "# only one object is create in memory that is being referrred by both list"
   ]
  },
  {
   "cell_type": "code",
   "execution_count": 7,
   "id": "4f1efbce",
   "metadata": {},
   "outputs": [
    {
     "data": {
      "text/plain": [
       "['Ash', 'divya', 'pratika']"
      ]
     },
     "execution_count": 7,
     "metadata": {},
     "output_type": "execute_result"
    }
   ],
   "source": [
    "list2[0]=\"Ash\"\n",
    "list2"
   ]
  },
  {
   "cell_type": "code",
   "execution_count": 8,
   "id": "319488ca",
   "metadata": {},
   "outputs": [
    {
     "data": {
      "text/plain": [
       "['Ash', 'divya', 'pratika']"
      ]
     },
     "execution_count": 8,
     "metadata": {},
     "output_type": "execute_result"
    }
   ],
   "source": [
    "list1"
   ]
  },
  {
   "cell_type": "code",
   "execution_count": null,
   "id": "50e74ed6",
   "metadata": {},
   "outputs": [],
   "source": [
    "# We can see that list1 is also been updated so mutability is there"
   ]
  }
 ],
 "metadata": {
  "kernelspec": {
   "display_name": "Python 3",
   "language": "python",
   "name": "python3"
  },
  "language_info": {
   "codemirror_mode": {
    "name": "ipython",
    "version": 3
   },
   "file_extension": ".py",
   "mimetype": "text/x-python",
   "name": "python",
   "nbconvert_exporter": "python",
   "pygments_lexer": "ipython3",
   "version": "3.8.8"
  }
 },
 "nbformat": 4,
 "nbformat_minor": 5
}
