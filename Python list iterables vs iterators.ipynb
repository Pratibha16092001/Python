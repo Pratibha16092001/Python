{
 "cells": [
  {
   "cell_type": "markdown",
   "id": "00b3f428",
   "metadata": {},
   "source": [
    "# Python list iterables and iterators"
   ]
  },
  {
   "cell_type": "code",
   "execution_count": 1,
   "id": "ac78eede",
   "metadata": {},
   "outputs": [
    {
     "name": "stdout",
     "output_type": "stream",
     "text": [
      "1\n",
      "2\n",
      "3\n",
      "4\n",
      "5\n",
      "6\n"
     ]
    }
   ],
   "source": [
    "# List is iterable\n",
    "list1=[1,2,3,4,5,6]\n",
    "for i in list1:\n",
    "    print(i)"
   ]
  },
  {
   "cell_type": "code",
   "execution_count": 2,
   "id": "9ed8d7b6",
   "metadata": {},
   "outputs": [],
   "source": [
    "# iter functin starts iteration allocating memory for \n",
    "# Memory is not initialized before\n",
    "list2=iter(list1)"
   ]
  },
  {
   "cell_type": "code",
   "execution_count": 3,
   "id": "208278b1",
   "metadata": {},
   "outputs": [
    {
     "data": {
      "text/plain": [
       "<list_iterator at 0x7fc6e8716dc0>"
      ]
     },
     "execution_count": 3,
     "metadata": {},
     "output_type": "execute_result"
    }
   ],
   "source": [
    "list2"
   ]
  },
  {
   "cell_type": "code",
   "execution_count": 4,
   "id": "546930ee",
   "metadata": {},
   "outputs": [
    {
     "data": {
      "text/plain": [
       "1"
      ]
     },
     "execution_count": 4,
     "metadata": {},
     "output_type": "execute_result"
    }
   ],
   "source": [
    "# List retrieves by using next function\n",
    "next(list2)"
   ]
  },
  {
   "cell_type": "code",
   "execution_count": 5,
   "id": "92298f05",
   "metadata": {},
   "outputs": [
    {
     "data": {
      "text/plain": [
       "2"
      ]
     },
     "execution_count": 5,
     "metadata": {},
     "output_type": "execute_result"
    }
   ],
   "source": [
    "next(list2)"
   ]
  },
  {
   "cell_type": "code",
   "execution_count": 6,
   "id": "9c5675e1",
   "metadata": {},
   "outputs": [
    {
     "name": "stdout",
     "output_type": "stream",
     "text": [
      "3\n",
      "4\n",
      "5\n",
      "6\n"
     ]
    }
   ],
   "source": [
    "# it will print remaining values\n",
    "for i in list2:\n",
    "    print (i)"
   ]
  },
  {
   "cell_type": "code",
   "execution_count": null,
   "id": "5a74d1b4",
   "metadata": {},
   "outputs": [],
   "source": []
  }
 ],
 "metadata": {
  "kernelspec": {
   "display_name": "Python 3",
   "language": "python",
   "name": "python3"
  },
  "language_info": {
   "codemirror_mode": {
    "name": "ipython",
    "version": 3
   },
   "file_extension": ".py",
   "mimetype": "text/x-python",
   "name": "python",
   "nbconvert_exporter": "python",
   "pygments_lexer": "ipython3",
   "version": "3.8.8"
  }
 },
 "nbformat": 4,
 "nbformat_minor": 5
}
