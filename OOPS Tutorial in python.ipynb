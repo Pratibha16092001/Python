{
 "cells": [
  {
   "cell_type": "markdown",
   "id": "73ca1981",
   "metadata": {},
   "source": [
    "# OOPS tutorial in python"
   ]
  },
  {
   "cell_type": "markdown",
   "id": "19f447cd",
   "metadata": {},
   "source": [
    "# Class"
   ]
  },
  {
   "cell_type": "code",
   "execution_count": 1,
   "id": "43130108",
   "metadata": {},
   "outputs": [],
   "source": [
    "class car:\n",
    "    pass"
   ]
  },
  {
   "cell_type": "code",
   "execution_count": 2,
   "id": "f062d89d",
   "metadata": {},
   "outputs": [],
   "source": [
    "car1=car()"
   ]
  },
  {
   "cell_type": "code",
   "execution_count": 3,
   "id": "57ae7c2b",
   "metadata": {},
   "outputs": [
    {
     "data": {
      "text/plain": [
       "<__main__.car at 0x7f95fc37dfa0>"
      ]
     },
     "execution_count": 3,
     "metadata": {},
     "output_type": "execute_result"
    }
   ],
   "source": [
    "car1"
   ]
  },
  {
   "cell_type": "code",
   "execution_count": 4,
   "id": "ccc1fe84",
   "metadata": {},
   "outputs": [],
   "source": [
    "car1.windows=4\n",
    "car1.doors=5"
   ]
  },
  {
   "cell_type": "code",
   "execution_count": 5,
   "id": "e6125453",
   "metadata": {},
   "outputs": [
    {
     "name": "stdout",
     "output_type": "stream",
     "text": [
      "4\n",
      "5\n"
     ]
    }
   ],
   "source": [
    "print(car1.windows)\n",
    "print(car1.doors)"
   ]
  },
  {
   "cell_type": "code",
   "execution_count": 6,
   "id": "f673010f",
   "metadata": {},
   "outputs": [],
   "source": [
    "# __init__ - acts as constructor"
   ]
  },
  {
   "cell_type": "code",
   "execution_count": 7,
   "id": "e993076d",
   "metadata": {},
   "outputs": [],
   "source": [
    "class car:      #class\n",
    "    def __init__(self,windows,door,enginetype):  #__init__ for constructor initiation\n",
    "        self.windows=windows\n",
    "        self.door=door\n",
    "        self.enginetype=enginetype\n",
    "        \n",
    "    def self_driving(self):                #method\n",
    "        return \"This is a {} car\".format(self.enginetype)"
   ]
  },
  {
   "cell_type": "code",
   "execution_count": 8,
   "id": "485c9005",
   "metadata": {},
   "outputs": [],
   "source": [
    "car1=car(4,5,'petrol')"
   ]
  },
  {
   "cell_type": "code",
   "execution_count": 9,
   "id": "3a0a0dad",
   "metadata": {},
   "outputs": [],
   "source": [
    "car2=car(3,6,'diesel')"
   ]
  },
  {
   "cell_type": "code",
   "execution_count": 10,
   "id": "346ec3d4",
   "metadata": {},
   "outputs": [
    {
     "data": {
      "text/plain": [
       "'This is a petrol car'"
      ]
     },
     "execution_count": 10,
     "metadata": {},
     "output_type": "execute_result"
    }
   ],
   "source": [
    "car1.self_driving()"
   ]
  },
  {
   "cell_type": "code",
   "execution_count": 11,
   "id": "469cffe0",
   "metadata": {},
   "outputs": [
    {
     "name": "stdout",
     "output_type": "stream",
     "text": [
      "4\n",
      "diesel\n",
      "5\n"
     ]
    }
   ],
   "source": [
    "print(car1.windows)\n",
    "print(car2.enginetype)\n",
    "print(car1.door)"
   ]
  },
  {
   "cell_type": "code",
   "execution_count": null,
   "id": "e4289c7e",
   "metadata": {},
   "outputs": [],
   "source": []
  }
 ],
 "metadata": {
  "kernelspec": {
   "display_name": "Python 3",
   "language": "python",
   "name": "python3"
  },
  "language_info": {
   "codemirror_mode": {
    "name": "ipython",
    "version": 3
   },
   "file_extension": ".py",
   "mimetype": "text/x-python",
   "name": "python",
   "nbconvert_exporter": "python",
   "pygments_lexer": "ipython3",
   "version": "3.8.8"
  }
 },
 "nbformat": 4,
 "nbformat_minor": 5
}
