{
 "cells": [
  {
   "cell_type": "markdown",
   "id": "824b4882",
   "metadata": {},
   "source": [
    "# Shallow copy and deep copy"
   ]
  },
  {
   "cell_type": "code",
   "execution_count": 2,
   "id": "29d093b6",
   "metadata": {},
   "outputs": [],
   "source": [
    "list1=[1,2,3,4]\n",
    "list2=list1"
   ]
  },
  {
   "cell_type": "code",
   "execution_count": 3,
   "id": "f34dcea4",
   "metadata": {},
   "outputs": [
    {
     "data": {
      "text/plain": [
       "[1, 2, 3, 4]"
      ]
     },
     "execution_count": 3,
     "metadata": {},
     "output_type": "execute_result"
    }
   ],
   "source": [
    "list2"
   ]
  },
  {
   "cell_type": "code",
   "execution_count": 4,
   "id": "86aa092c",
   "metadata": {},
   "outputs": [],
   "source": [
    "list2[2]=6"
   ]
  },
  {
   "cell_type": "code",
   "execution_count": 5,
   "id": "fc349a6a",
   "metadata": {},
   "outputs": [
    {
     "data": {
      "text/plain": [
       "[1, 2, 6, 4]"
      ]
     },
     "execution_count": 5,
     "metadata": {},
     "output_type": "execute_result"
    }
   ],
   "source": [
    "list2"
   ]
  },
  {
   "cell_type": "code",
   "execution_count": 6,
   "id": "12963cf9",
   "metadata": {},
   "outputs": [
    {
     "data": {
      "text/plain": [
       "[1, 2, 6, 4]"
      ]
     },
     "execution_count": 6,
     "metadata": {},
     "output_type": "execute_result"
    }
   ],
   "source": [
    "list1"
   ]
  },
  {
   "cell_type": "raw",
   "id": "ec60b0aa",
   "metadata": {},
   "source": [
    "Changes reflect in both"
   ]
  },
  {
   "cell_type": "code",
   "execution_count": 7,
   "id": "93d34aeb",
   "metadata": {},
   "outputs": [],
   "source": [
    "# copy\n",
    "# shallow copy\n",
    "list1=[1,2,3,4]\n",
    "list2=list1.copy()"
   ]
  },
  {
   "cell_type": "code",
   "execution_count": 8,
   "id": "02431a28",
   "metadata": {},
   "outputs": [
    {
     "data": {
      "text/plain": [
       "[1, 2, 3, 4]"
      ]
     },
     "execution_count": 8,
     "metadata": {},
     "output_type": "execute_result"
    }
   ],
   "source": [
    "list2"
   ]
  },
  {
   "cell_type": "code",
   "execution_count": 10,
   "id": "c6992eab",
   "metadata": {},
   "outputs": [],
   "source": [
    "list2[1]=7"
   ]
  },
  {
   "cell_type": "code",
   "execution_count": 11,
   "id": "a39f2ec1",
   "metadata": {},
   "outputs": [
    {
     "data": {
      "text/plain": [
       "[1, 7, 3, 4]"
      ]
     },
     "execution_count": 11,
     "metadata": {},
     "output_type": "execute_result"
    }
   ],
   "source": [
    "list2"
   ]
  },
  {
   "cell_type": "code",
   "execution_count": 12,
   "id": "f2da0a3f",
   "metadata": {},
   "outputs": [
    {
     "data": {
      "text/plain": [
       "[1, 2, 3, 4]"
      ]
     },
     "execution_count": 12,
     "metadata": {},
     "output_type": "execute_result"
    }
   ],
   "source": [
    "list1"
   ]
  },
  {
   "cell_type": "raw",
   "id": "f104e8d3",
   "metadata": {},
   "source": [
    "Only changes has reflect in list1"
   ]
  },
  {
   "cell_type": "code",
   "execution_count": 21,
   "id": "62bfc342",
   "metadata": {},
   "outputs": [],
   "source": [
    "# shallow copy nested list\n",
    "# two diamensional\n",
    "\n",
    "list1=[[1,2,3,4],[5,6,7,8]]\n",
    "list2=list1.copy()"
   ]
  },
  {
   "cell_type": "code",
   "execution_count": 22,
   "id": "270e3aa9",
   "metadata": {},
   "outputs": [
    {
     "data": {
      "text/plain": [
       "[[1, 2, 3, 4], [5, 6, 7, 8]]"
      ]
     },
     "execution_count": 22,
     "metadata": {},
     "output_type": "execute_result"
    }
   ],
   "source": [
    "list1"
   ]
  },
  {
   "cell_type": "code",
   "execution_count": 23,
   "id": "95337d75",
   "metadata": {},
   "outputs": [
    {
     "data": {
      "text/plain": [
       "[[1, 2, 3, 4], [5, 6, 7, 8]]"
      ]
     },
     "execution_count": 23,
     "metadata": {},
     "output_type": "execute_result"
    }
   ],
   "source": [
    "list2"
   ]
  },
  {
   "cell_type": "code",
   "execution_count": 24,
   "id": "a69b4414",
   "metadata": {},
   "outputs": [],
   "source": [
    "list1[1][0]=11"
   ]
  },
  {
   "cell_type": "code",
   "execution_count": 25,
   "id": "ec4efcc9",
   "metadata": {},
   "outputs": [
    {
     "data": {
      "text/plain": [
       "[[1, 2, 3, 4], [11, 6, 7, 8]]"
      ]
     },
     "execution_count": 25,
     "metadata": {},
     "output_type": "execute_result"
    }
   ],
   "source": [
    "list2"
   ]
  },
  {
   "cell_type": "code",
   "execution_count": 26,
   "id": "c9362ca0",
   "metadata": {},
   "outputs": [],
   "source": [
    "# changes are reflected in both\n",
    "# both refers the same object nested in the list"
   ]
  },
  {
   "cell_type": "code",
   "execution_count": 27,
   "id": "34922693",
   "metadata": {},
   "outputs": [],
   "source": [
    "list1.append([3,4,5,6])"
   ]
  },
  {
   "cell_type": "code",
   "execution_count": 28,
   "id": "d8fff0a2",
   "metadata": {},
   "outputs": [
    {
     "data": {
      "text/plain": [
       "[[1, 2, 3, 4], [11, 6, 7, 8], [3, 4, 5, 6]]"
      ]
     },
     "execution_count": 28,
     "metadata": {},
     "output_type": "execute_result"
    }
   ],
   "source": [
    "list1"
   ]
  },
  {
   "cell_type": "code",
   "execution_count": 29,
   "id": "0786135c",
   "metadata": {},
   "outputs": [
    {
     "data": {
      "text/plain": [
       "[[1, 2, 3, 4], [11, 6, 7, 8]]"
      ]
     },
     "execution_count": 29,
     "metadata": {},
     "output_type": "execute_result"
    }
   ],
   "source": [
    "list2"
   ]
  },
  {
   "cell_type": "code",
   "execution_count": 30,
   "id": "0c4ef263",
   "metadata": {},
   "outputs": [],
   "source": [
    "# operation on only existing object"
   ]
  },
  {
   "cell_type": "markdown",
   "id": "01903b22",
   "metadata": {},
   "source": [
    "# deep copy"
   ]
  },
  {
   "cell_type": "code",
   "execution_count": 31,
   "id": "70c6206d",
   "metadata": {},
   "outputs": [],
   "source": [
    "import copy"
   ]
  },
  {
   "cell_type": "code",
   "execution_count": 33,
   "id": "14f57da3",
   "metadata": {},
   "outputs": [],
   "source": [
    "list1=[1,2,3]\n",
    "list2=copy.deepcopy(list1)"
   ]
  },
  {
   "cell_type": "code",
   "execution_count": 34,
   "id": "44122b7c",
   "metadata": {},
   "outputs": [],
   "source": [
    "list2[1]=5"
   ]
  },
  {
   "cell_type": "code",
   "execution_count": 35,
   "id": "3b836737",
   "metadata": {},
   "outputs": [
    {
     "data": {
      "text/plain": [
       "[1, 5, 3]"
      ]
     },
     "execution_count": 35,
     "metadata": {},
     "output_type": "execute_result"
    }
   ],
   "source": [
    "list2"
   ]
  },
  {
   "cell_type": "code",
   "execution_count": 36,
   "id": "6cb97feb",
   "metadata": {},
   "outputs": [
    {
     "data": {
      "text/plain": [
       "[1, 2, 3]"
      ]
     },
     "execution_count": 36,
     "metadata": {},
     "output_type": "execute_result"
    }
   ],
   "source": [
    "list1"
   ]
  },
  {
   "cell_type": "code",
   "execution_count": 38,
   "id": "23aa275b",
   "metadata": {},
   "outputs": [],
   "source": [
    "# in a normal list shallow copy==deep copy\n",
    "# work in same way that do not reflect changes"
   ]
  },
  {
   "cell_type": "code",
   "execution_count": 39,
   "id": "8b15acfe",
   "metadata": {},
   "outputs": [],
   "source": [
    "list1=[[1,2,3],[4,5,6],[7,8,9]]\n",
    "list2=copy.deepcopy(list1)"
   ]
  },
  {
   "cell_type": "code",
   "execution_count": 40,
   "id": "812df3fc",
   "metadata": {},
   "outputs": [],
   "source": [
    "list1[1][0]=11"
   ]
  },
  {
   "cell_type": "code",
   "execution_count": 41,
   "id": "af964246",
   "metadata": {},
   "outputs": [
    {
     "data": {
      "text/plain": [
       "[[1, 2, 3], [4, 5, 6], [7, 8, 9]]"
      ]
     },
     "execution_count": 41,
     "metadata": {},
     "output_type": "execute_result"
    }
   ],
   "source": [
    "list2"
   ]
  },
  {
   "cell_type": "code",
   "execution_count": 42,
   "id": "bb55dc72",
   "metadata": {},
   "outputs": [
    {
     "data": {
      "text/plain": [
       "[[1, 2, 3], [11, 5, 6], [7, 8, 9]]"
      ]
     },
     "execution_count": 42,
     "metadata": {},
     "output_type": "execute_result"
    }
   ],
   "source": [
    "list1"
   ]
  },
  {
   "cell_type": "code",
   "execution_count": 43,
   "id": "5ef54b28",
   "metadata": {},
   "outputs": [],
   "source": [
    "# in nested list shallow copy!= deep copy"
   ]
  }
 ],
 "metadata": {
  "kernelspec": {
   "display_name": "Python 3",
   "language": "python",
   "name": "python3"
  },
  "language_info": {
   "codemirror_mode": {
    "name": "ipython",
    "version": 3
   },
   "file_extension": ".py",
   "mimetype": "text/x-python",
   "name": "python",
   "nbconvert_exporter": "python",
   "pygments_lexer": "ipython3",
   "version": "3.8.8"
  }
 },
 "nbformat": 4,
 "nbformat_minor": 5
}
