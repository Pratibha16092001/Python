{
 "cells": [
  {
   "cell_type": "code",
   "execution_count": 1,
   "id": "fb434372",
   "metadata": {},
   "outputs": [],
   "source": [
    "# function copy\n",
    "# closures\n",
    "# decorators"
   ]
  },
  {
   "cell_type": "code",
   "execution_count": 3,
   "id": "9d8e57c3",
   "metadata": {},
   "outputs": [],
   "source": [
    "def welcome():\n",
    "    return \"Welcome everyone\""
   ]
  },
  {
   "cell_type": "code",
   "execution_count": 6,
   "id": "574c5738",
   "metadata": {},
   "outputs": [],
   "source": [
    "wel=welcome()\n",
    "del welcome"
   ]
  },
  {
   "cell_type": "code",
   "execution_count": 7,
   "id": "c7a40d09",
   "metadata": {},
   "outputs": [
    {
     "data": {
      "text/plain": [
       "'Welcome everyone'"
      ]
     },
     "execution_count": 7,
     "metadata": {},
     "output_type": "execute_result"
    }
   ],
   "source": [
    "wel"
   ]
  },
  {
   "cell_type": "code",
   "execution_count": 8,
   "id": "a99efb0e",
   "metadata": {},
   "outputs": [],
   "source": [
    "# Function is still returning output because it is copied in wel object"
   ]
  },
  {
   "cell_type": "code",
   "execution_count": 11,
   "id": "647391d0",
   "metadata": {},
   "outputs": [],
   "source": [
    "# closures\n",
    "def main_welcome(msg):\n",
    "    def sub_wel():\n",
    "        print('Welcome to my you tube channel')\n",
    "        print(msg)\n",
    "        print('plz suscribe channel')\n",
    "    return sub_wel()"
   ]
  },
  {
   "cell_type": "code",
   "execution_count": 12,
   "id": "15219c05",
   "metadata": {},
   "outputs": [
    {
     "name": "stdout",
     "output_type": "stream",
     "text": [
      "Welcome to my you tube channel\n",
      "Pratibha\n",
      "plz suscribe channel\n"
     ]
    }
   ],
   "source": [
    "main_welcome('Pratibha')"
   ]
  },
  {
   "cell_type": "code",
   "execution_count": 19,
   "id": "a9fbc60e",
   "metadata": {},
   "outputs": [],
   "source": [
    "# closures & initial decorators\n",
    "def main_welcome(func):\n",
    "    \n",
    "    def sub_wel():\n",
    "        print('Welcome to my you tube channel')\n",
    "        func('This channel is for programming')\n",
    "        print('plz suscribe channel')\n",
    "    return sub_wel()"
   ]
  },
  {
   "cell_type": "code",
   "execution_count": 20,
   "id": "015fe677",
   "metadata": {},
   "outputs": [
    {
     "name": "stdout",
     "output_type": "stream",
     "text": [
      "Welcome to my you tube channel\n",
      "This channel is for programming\n",
      "plz suscribe channel\n"
     ]
    }
   ],
   "source": [
    "main_welcome(print)"
   ]
  },
  {
   "cell_type": "code",
   "execution_count": 26,
   "id": "8f583762",
   "metadata": {},
   "outputs": [],
   "source": [
    "# decorators\n",
    "def main_welcome(func):\n",
    "    \n",
    "    def sub_wel():\n",
    "        print('Welcome to my you tube channel')\n",
    "        func()\n",
    "        print('plz suscribe channel')\n",
    "    return sub_wel()"
   ]
  },
  {
   "cell_type": "code",
   "execution_count": 27,
   "id": "b782727d",
   "metadata": {},
   "outputs": [],
   "source": [
    "def channel_name():\n",
    "    print('i have million subscribers')"
   ]
  },
  {
   "cell_type": "code",
   "execution_count": 28,
   "id": "9f678975",
   "metadata": {},
   "outputs": [
    {
     "name": "stdout",
     "output_type": "stream",
     "text": [
      "Welcome to my you tube channel\n",
      "i have million subscribers\n",
      "plz suscribe channel\n"
     ]
    }
   ],
   "source": [
    "main_welcome(channel_name)"
   ]
  },
  {
   "cell_type": "code",
   "execution_count": 31,
   "id": "85f30e8f",
   "metadata": {},
   "outputs": [],
   "source": [
    "# ANother method\n",
    "# decorators\n",
    "def main_welcome(func):\n",
    "    \n",
    "    def sub_wel():\n",
    "        print('Welcome to my you tube channel')\n",
    "        func()\n",
    "        print('plz suscribe channel')\n",
    "    return sub_wel()"
   ]
  },
  {
   "cell_type": "code",
   "execution_count": 33,
   "id": "05804600",
   "metadata": {},
   "outputs": [
    {
     "name": "stdout",
     "output_type": "stream",
     "text": [
      "Welcome to my you tube channel\n",
      "i have million subscribers\n",
      "plz suscribe channel\n"
     ]
    }
   ],
   "source": [
    "@main_welcome\n",
    "def channel_name():\n",
    "    print('i have million subscribers')"
   ]
  },
  {
   "cell_type": "code",
   "execution_count": null,
   "id": "9de20569",
   "metadata": {},
   "outputs": [],
   "source": []
  }
 ],
 "metadata": {
  "kernelspec": {
   "display_name": "Python 3",
   "language": "python",
   "name": "python3"
  },
  "language_info": {
   "codemirror_mode": {
    "name": "ipython",
    "version": 3
   },
   "file_extension": ".py",
   "mimetype": "text/x-python",
   "name": "python",
   "nbconvert_exporter": "python",
   "pygments_lexer": "ipython3",
   "version": "3.8.8"
  }
 },
 "nbformat": 4,
 "nbformat_minor": 5
}
