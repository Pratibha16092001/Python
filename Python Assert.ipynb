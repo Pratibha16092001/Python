{
 "cells": [
  {
   "cell_type": "markdown",
   "id": "a0f86d81",
   "metadata": {},
   "source": [
    "# Python Assert"
   ]
  },
  {
   "cell_type": "markdown",
   "id": "6372d0b2",
   "metadata": {},
   "source": [
    "### check if given logical expression is true or false\n",
    "### proceeds only if the expression is true and raises assertion error when it is false."
   ]
  },
  {
   "cell_type": "code",
   "execution_count": 3,
   "id": "8061daa3",
   "metadata": {},
   "outputs": [
    {
     "ename": "AssertionError",
     "evalue": "",
     "output_type": "error",
     "traceback": [
      "\u001b[0;31m---------------------------------------------------------------------------\u001b[0m",
      "\u001b[0;31mAssertionError\u001b[0m                            Traceback (most recent call last)",
      "\u001b[0;32m<ipython-input-3-49b7f0e774e1>\u001b[0m in \u001b[0;36m<module>\u001b[0;34m\u001b[0m\n\u001b[1;32m      1\u001b[0m \u001b[0mnum\u001b[0m\u001b[0;34m=\u001b[0m\u001b[0;36m10\u001b[0m\u001b[0;34m\u001b[0m\u001b[0;34m\u001b[0m\u001b[0m\n\u001b[0;32m----> 2\u001b[0;31m \u001b[0;32massert\u001b[0m \u001b[0mnum\u001b[0m\u001b[0;34m>\u001b[0m\u001b[0;36m10\u001b[0m\u001b[0;34m\u001b[0m\u001b[0;34m\u001b[0m\u001b[0m\n\u001b[0m",
      "\u001b[0;31mAssertionError\u001b[0m: "
     ]
    }
   ],
   "source": [
    "num=10\n",
    "assert num>10"
   ]
  },
  {
   "cell_type": "markdown",
   "id": "3c876ba2",
   "metadata": {},
   "source": [
    "We can notice that assertion error has occured"
   ]
  },
  {
   "cell_type": "code",
   "execution_count": 6,
   "id": "af11787e",
   "metadata": {},
   "outputs": [
    {
     "name": "stdout",
     "output_type": "stream",
     "text": [
      "Enter the number\n",
      "13\n",
      "Please enter the even number\n"
     ]
    }
   ],
   "source": [
    "try:\n",
    "    num=int(input('Enter the number\\n'))\n",
    "    assert num%2==0\n",
    "    print(\"Number is even\")\n",
    "except AssertionError:\n",
    "    print('Please enter the even number')"
   ]
  },
  {
   "cell_type": "code",
   "execution_count": null,
   "id": "09b59d23",
   "metadata": {},
   "outputs": [],
   "source": []
  }
 ],
 "metadata": {
  "kernelspec": {
   "display_name": "Python 3",
   "language": "python",
   "name": "python3"
  },
  "language_info": {
   "codemirror_mode": {
    "name": "ipython",
    "version": 3
   },
   "file_extension": ".py",
   "mimetype": "text/x-python",
   "name": "python",
   "nbconvert_exporter": "python",
   "pygments_lexer": "ipython3",
   "version": "3.8.8"
  }
 },
 "nbformat": 4,
 "nbformat_minor": 5
}
