{
 "cells": [
  {
   "cell_type": "markdown",
   "id": "f1a89ca8",
   "metadata": {},
   "source": [
    "# adavantages of array over list"
   ]
  },
  {
   "cell_type": "markdown",
   "id": "cb814ce8",
   "metadata": {},
   "source": [
    "# time"
   ]
  },
  {
   "cell_type": "code",
   "execution_count": 43,
   "id": "b5f90dc8",
   "metadata": {},
   "outputs": [],
   "source": [
    "import time"
   ]
  },
  {
   "cell_type": "code",
   "execution_count": 44,
   "id": "d621ef36",
   "metadata": {},
   "outputs": [],
   "source": [
    "py_list=[i for i in range(1000000)]"
   ]
  },
  {
   "cell_type": "code",
   "execution_count": 45,
   "id": "27a43ce5",
   "metadata": {},
   "outputs": [
    {
     "name": "stdout",
     "output_type": "stream",
     "text": [
      "0.06745696067810059\n"
     ]
    }
   ],
   "source": [
    "#time  required for list\n",
    "start=time.time()\n",
    "py_list=[i+2 for i in py_list]\n",
    "stop=time.time()\n",
    "req_time=stop-start\n",
    "print(req_time)"
   ]
  },
  {
   "cell_type": "code",
   "execution_count": 46,
   "id": "452dbb89",
   "metadata": {},
   "outputs": [],
   "source": [
    "import numpy as np"
   ]
  },
  {
   "cell_type": "code",
   "execution_count": 47,
   "id": "18177542",
   "metadata": {},
   "outputs": [
    {
     "name": "stdout",
     "output_type": "stream",
     "text": [
      "0.0018236637115478516\n"
     ]
    }
   ],
   "source": [
    "#time required for array\n",
    "arr=np.array([i for i in range(1000000)])\n",
    "start=time.time()\n",
    "arr=arr+2\n",
    "stop=time.time()\n",
    "print(stop-start)"
   ]
  },
  {
   "cell_type": "markdown",
   "id": "5174084e",
   "metadata": {},
   "source": [
    "# storage space"
   ]
  },
  {
   "cell_type": "code",
   "execution_count": 49,
   "id": "2d74b8bd",
   "metadata": {},
   "outputs": [],
   "source": [
    "import sys"
   ]
  },
  {
   "cell_type": "code",
   "execution_count": 50,
   "id": "56ce58cb",
   "metadata": {},
   "outputs": [
    {
     "name": "stdout",
     "output_type": "stream",
     "text": [
      "total size required to store list= 2400\n"
     ]
    }
   ],
   "source": [
    "#storage required to store list\n",
    "list=[i for i in range(100)]\n",
    "len(list)\n",
    "print(\"total size required to store list=\",sys.getsizeof(list[0])*len(list))"
   ]
  },
  {
   "cell_type": "code",
   "execution_count": 51,
   "id": "b0a08a60",
   "metadata": {},
   "outputs": [
    {
     "name": "stdout",
     "output_type": "stream",
     "text": [
      "total size required to store list= 800\n"
     ]
    }
   ],
   "source": [
    "#storage required to store array\n",
    "arr=np.array([i for i in range(100)])\n",
    "print(\"total size required to store list=\",arr.itemsize*len(arr))"
   ]
  },
  {
   "cell_type": "markdown",
   "id": "95d8f1e9",
   "metadata": {},
   "source": [
    "# numpy operations"
   ]
  },
  {
   "cell_type": "code",
   "execution_count": 58,
   "id": "e76566c6",
   "metadata": {},
   "outputs": [],
   "source": [
    "import numpy as np"
   ]
  },
  {
   "cell_type": "code",
   "execution_count": 59,
   "id": "f6460eec",
   "metadata": {},
   "outputs": [
    {
     "data": {
      "text/plain": [
       "array([[1, 2, 3],\n",
       "       [4, 5, 6],\n",
       "       [7, 8, 9]])"
      ]
     },
     "execution_count": 59,
     "metadata": {},
     "output_type": "execute_result"
    }
   ],
   "source": [
    "arr1=np.array([[1,2,3,],[4,5,6],[7,8,9]])\n",
    "arr1"
   ]
  },
  {
   "cell_type": "code",
   "execution_count": 62,
   "id": "868ba554",
   "metadata": {},
   "outputs": [
    {
     "data": {
      "text/plain": [
       "(3, 3)"
      ]
     },
     "execution_count": 62,
     "metadata": {},
     "output_type": "execute_result"
    }
   ],
   "source": [
    "arr1.shape"
   ]
  },
  {
   "cell_type": "code",
   "execution_count": 63,
   "id": "e0d253a2",
   "metadata": {},
   "outputs": [
    {
     "data": {
      "text/plain": [
       "9"
      ]
     },
     "execution_count": 63,
     "metadata": {},
     "output_type": "execute_result"
    }
   ],
   "source": [
    "arr1.size"
   ]
  },
  {
   "cell_type": "code",
   "execution_count": 65,
   "id": "0cf30fda",
   "metadata": {},
   "outputs": [
    {
     "data": {
      "text/plain": [
       "45"
      ]
     },
     "execution_count": 65,
     "metadata": {},
     "output_type": "execute_result"
    }
   ],
   "source": [
    "np.sum(arr1)"
   ]
  },
  {
   "cell_type": "code",
   "execution_count": 66,
   "id": "6165d653",
   "metadata": {},
   "outputs": [
    {
     "data": {
      "text/plain": [
       "array([12, 15, 18])"
      ]
     },
     "execution_count": 66,
     "metadata": {},
     "output_type": "execute_result"
    }
   ],
   "source": [
    "np.sum(arr1,axis=0)"
   ]
  },
  {
   "cell_type": "code",
   "execution_count": 67,
   "id": "9a94f9c8",
   "metadata": {},
   "outputs": [
    {
     "data": {
      "text/plain": [
       "array([ 6, 15, 24])"
      ]
     },
     "execution_count": 67,
     "metadata": {},
     "output_type": "execute_result"
    }
   ],
   "source": [
    "np.sum(arr1,axis=1)"
   ]
  },
  {
   "cell_type": "code",
   "execution_count": 68,
   "id": "7e9baacc",
   "metadata": {},
   "outputs": [
    {
     "name": "stdout",
     "output_type": "stream",
     "text": [
      "[[11 12 13]\n",
      " [14 15 16]\n",
      " [17 18 19]]\n"
     ]
    }
   ],
   "source": [
    "arr2=np.array([[11,12,13],[14,15,16],[17,18,19]])\n",
    "print(arr2)"
   ]
  },
  {
   "cell_type": "code",
   "execution_count": 69,
   "id": "215f3cda",
   "metadata": {},
   "outputs": [
    {
     "data": {
      "text/plain": [
       "array([[12, 14, 16],\n",
       "       [18, 20, 22],\n",
       "       [24, 26, 28]])"
      ]
     },
     "execution_count": 69,
     "metadata": {},
     "output_type": "execute_result"
    }
   ],
   "source": [
    "np.add(arr1,arr2)"
   ]
  },
  {
   "cell_type": "code",
   "execution_count": 72,
   "id": "878ab5a2",
   "metadata": {},
   "outputs": [
    {
     "data": {
      "text/plain": [
       "array([[10, 10, 10],\n",
       "       [10, 10, 10],\n",
       "       [10, 10, 10]])"
      ]
     },
     "execution_count": 72,
     "metadata": {},
     "output_type": "execute_result"
    }
   ],
   "source": [
    "np.subtract(arr2,arr1)"
   ]
  },
  {
   "cell_type": "code",
   "execution_count": 74,
   "id": "5cdaf20f",
   "metadata": {},
   "outputs": [
    {
     "data": {
      "text/plain": [
       "array([[ 11,  24,  39],\n",
       "       [ 56,  75,  96],\n",
       "       [119, 144, 171]])"
      ]
     },
     "execution_count": 74,
     "metadata": {},
     "output_type": "execute_result"
    }
   ],
   "source": [
    "np.multiply(arr1,arr2)"
   ]
  },
  {
   "cell_type": "code",
   "execution_count": 75,
   "id": "42021249",
   "metadata": {},
   "outputs": [
    {
     "data": {
      "text/plain": [
       "array([[11.        ,  6.        ,  4.33333333],\n",
       "       [ 3.5       ,  3.        ,  2.66666667],\n",
       "       [ 2.42857143,  2.25      ,  2.11111111]])"
      ]
     },
     "execution_count": 75,
     "metadata": {},
     "output_type": "execute_result"
    }
   ],
   "source": [
    "np.divide(arr2,arr1)"
   ]
  },
  {
   "cell_type": "code",
   "execution_count": 77,
   "id": "50a3465f",
   "metadata": {},
   "outputs": [
    {
     "data": {
      "text/plain": [
       "array([[0, 0, 1],\n",
       "       [2, 0, 4],\n",
       "       [3, 2, 1]])"
      ]
     },
     "execution_count": 77,
     "metadata": {},
     "output_type": "execute_result"
    }
   ],
   "source": [
    "np.remainder(arr2,arr1)"
   ]
  },
  {
   "cell_type": "code",
   "execution_count": 78,
   "id": "fe56afea",
   "metadata": {},
   "outputs": [],
   "source": [
    "arr3=arr1"
   ]
  },
  {
   "cell_type": "code",
   "execution_count": 79,
   "id": "d98b1826",
   "metadata": {},
   "outputs": [
    {
     "data": {
      "text/plain": [
       "array([[1, 2, 3],\n",
       "       [4, 5, 6],\n",
       "       [7, 8, 9]])"
      ]
     },
     "execution_count": 79,
     "metadata": {},
     "output_type": "execute_result"
    }
   ],
   "source": [
    "arr3"
   ]
  },
  {
   "cell_type": "code",
   "execution_count": 93,
   "id": "76591bb4",
   "metadata": {},
   "outputs": [
    {
     "data": {
      "text/plain": [
       "array([[ 1,  2,  3],\n",
       "       [ 4,  5,  6],\n",
       "       [ 7,  8,  9],\n",
       "       [10, 11, 12]])"
      ]
     },
     "execution_count": 93,
     "metadata": {},
     "output_type": "execute_result"
    }
   ],
   "source": [
    "arr3=np.append(arr3,[[10,11,12]],axis=0)         #add elements to the rows\n",
    "arr3"
   ]
  },
  {
   "cell_type": "code",
   "execution_count": 95,
   "id": "36a927ab",
   "metadata": {},
   "outputs": [
    {
     "data": {
      "text/plain": [
       "array([[ 1,  2,  3, 13],\n",
       "       [ 4,  5,  6, 14],\n",
       "       [ 7,  8,  9, 15],\n",
       "       [10, 11, 12, 16]])"
      ]
     },
     "execution_count": 95,
     "metadata": {},
     "output_type": "execute_result"
    }
   ],
   "source": [
    "np.append(arr3,[[13],[14],[15],[16]],axis=1)"
   ]
  },
  {
   "cell_type": "markdown",
   "id": "846eb967",
   "metadata": {},
   "source": [
    "# how to create scalar in numpy"
   ]
  },
  {
   "cell_type": "code",
   "execution_count": 96,
   "id": "b0b5afc6",
   "metadata": {},
   "outputs": [],
   "source": [
    "import numpy as np"
   ]
  },
  {
   "cell_type": "code",
   "execution_count": 97,
   "id": "2b9c5e36",
   "metadata": {},
   "outputs": [
    {
     "name": "stdout",
     "output_type": "stream",
     "text": [
      "[8]\n"
     ]
    }
   ],
   "source": [
    "arr4=np.array([8])\n",
    "print(arr4)"
   ]
  },
  {
   "cell_type": "code",
   "execution_count": 98,
   "id": "1ef2e77d",
   "metadata": {},
   "outputs": [
    {
     "name": "stderr",
     "output_type": "stream",
     "text": [
      "/tmp/ipykernel_2425/398735811.py:1: DeprecationWarning: np.asscalar(a) is deprecated since NumPy v1.16, use a.item() instead\n",
      "  sc_arr4=np.asscalar(arr4)\n"
     ]
    }
   ],
   "source": [
    "sc_arr4=np.asscalar(arr4)"
   ]
  },
  {
   "cell_type": "code",
   "execution_count": 99,
   "id": "f0a251a2",
   "metadata": {},
   "outputs": [
    {
     "data": {
      "text/plain": [
       "8"
      ]
     },
     "execution_count": 99,
     "metadata": {},
     "output_type": "execute_result"
    }
   ],
   "source": [
    "sc_arr4"
   ]
  },
  {
   "cell_type": "code",
   "execution_count": 100,
   "id": "9e70ea11",
   "metadata": {},
   "outputs": [
    {
     "data": {
      "text/plain": [
       "int"
      ]
     },
     "execution_count": 100,
     "metadata": {},
     "output_type": "execute_result"
    }
   ],
   "source": [
    "type(sc_arr4)"
   ]
  },
  {
   "cell_type": "markdown",
   "id": "eb5903d6",
   "metadata": {},
   "source": [
    "# how to create vectors using numpy"
   ]
  },
  {
   "cell_type": "code",
   "execution_count": 101,
   "id": "2782cee8",
   "metadata": {},
   "outputs": [
    {
     "data": {
      "text/plain": [
       "[1, 2, 3]"
      ]
     },
     "execution_count": 101,
     "metadata": {},
     "output_type": "execute_result"
    }
   ],
   "source": [
    "l1=[1,2,3]\n",
    "l1"
   ]
  },
  {
   "cell_type": "code",
   "execution_count": 102,
   "id": "51d3b2af",
   "metadata": {},
   "outputs": [
    {
     "data": {
      "text/plain": [
       "list"
      ]
     },
     "execution_count": 102,
     "metadata": {},
     "output_type": "execute_result"
    }
   ],
   "source": [
    "type(l1)"
   ]
  },
  {
   "cell_type": "code",
   "execution_count": 104,
   "id": "272f4411",
   "metadata": {},
   "outputs": [],
   "source": [
    "l1=np.array(l1)"
   ]
  },
  {
   "cell_type": "code",
   "execution_count": 105,
   "id": "e5e4ac1e",
   "metadata": {},
   "outputs": [
    {
     "data": {
      "text/plain": [
       "array([1, 2, 3])"
      ]
     },
     "execution_count": 105,
     "metadata": {},
     "output_type": "execute_result"
    }
   ],
   "source": [
    "l1"
   ]
  },
  {
   "cell_type": "code",
   "execution_count": 106,
   "id": "3ee95dda",
   "metadata": {},
   "outputs": [],
   "source": [
    "l2=[[11],\n",
    "   [12],\n",
    "   [13]]"
   ]
  },
  {
   "cell_type": "code",
   "execution_count": 107,
   "id": "5f6be058",
   "metadata": {},
   "outputs": [
    {
     "data": {
      "text/plain": [
       "list"
      ]
     },
     "execution_count": 107,
     "metadata": {},
     "output_type": "execute_result"
    }
   ],
   "source": [
    "type(l2)"
   ]
  },
  {
   "cell_type": "code",
   "execution_count": 108,
   "id": "0e913507",
   "metadata": {},
   "outputs": [],
   "source": [
    "l2=np.array(l2)"
   ]
  },
  {
   "cell_type": "code",
   "execution_count": 109,
   "id": "5dd3e320",
   "metadata": {},
   "outputs": [
    {
     "data": {
      "text/plain": [
       "array([[11],\n",
       "       [12],\n",
       "       [13]])"
      ]
     },
     "execution_count": 109,
     "metadata": {},
     "output_type": "execute_result"
    }
   ],
   "source": [
    "l2"
   ]
  },
  {
   "cell_type": "markdown",
   "id": "e6dbe663",
   "metadata": {},
   "source": [
    "# how to create and work with matrix"
   ]
  },
  {
   "cell_type": "code",
   "execution_count": 113,
   "id": "74f366c3",
   "metadata": {},
   "outputs": [
    {
     "data": {
      "text/plain": [
       "matrix([[1, 2, 3],\n",
       "        [4, 5, 6],\n",
       "        [7, 8, 9]])"
      ]
     },
     "execution_count": 113,
     "metadata": {},
     "output_type": "execute_result"
    }
   ],
   "source": [
    "m1=np.matrix('1,2,3;4,5,6;7,8,9')\n",
    "m1"
   ]
  },
  {
   "cell_type": "code",
   "execution_count": 114,
   "id": "03ac0794",
   "metadata": {},
   "outputs": [
    {
     "data": {
      "text/plain": [
       "numpy.matrix"
      ]
     },
     "execution_count": 114,
     "metadata": {},
     "output_type": "execute_result"
    }
   ],
   "source": [
    "type(m1)"
   ]
  },
  {
   "cell_type": "code",
   "execution_count": 115,
   "id": "48704ad4",
   "metadata": {},
   "outputs": [
    {
     "data": {
      "text/plain": [
       "(3, 3)"
      ]
     },
     "execution_count": 115,
     "metadata": {},
     "output_type": "execute_result"
    }
   ],
   "source": [
    "m1.shape"
   ]
  },
  {
   "cell_type": "code",
   "execution_count": 116,
   "id": "11959ed5",
   "metadata": {},
   "outputs": [
    {
     "data": {
      "text/plain": [
       "9"
      ]
     },
     "execution_count": 116,
     "metadata": {},
     "output_type": "execute_result"
    }
   ],
   "source": [
    "m1.size"
   ]
  },
  {
   "cell_type": "code",
   "execution_count": 117,
   "id": "0aadc3e0",
   "metadata": {},
   "outputs": [
    {
     "data": {
      "text/plain": [
       "matrix([[11, 12, 13],\n",
       "        [14, 15, 16],\n",
       "        [17, 18, 19]])"
      ]
     },
     "execution_count": 117,
     "metadata": {},
     "output_type": "execute_result"
    }
   ],
   "source": [
    "m2=np.matrix('11,12,13;14,15,16;,17,18,19')\n",
    "m2"
   ]
  },
  {
   "cell_type": "code",
   "execution_count": 118,
   "id": "1766fc13",
   "metadata": {},
   "outputs": [
    {
     "data": {
      "text/plain": [
       "matrix([[12, 14, 16],\n",
       "        [18, 20, 22],\n",
       "        [24, 26, 28]])"
      ]
     },
     "execution_count": 118,
     "metadata": {},
     "output_type": "execute_result"
    }
   ],
   "source": [
    "np.add(m1,m2)"
   ]
  },
  {
   "cell_type": "code",
   "execution_count": 119,
   "id": "6a7813da",
   "metadata": {},
   "outputs": [
    {
     "data": {
      "text/plain": [
       "matrix([[10, 10, 10],\n",
       "        [10, 10, 10],\n",
       "        [10, 10, 10]])"
      ]
     },
     "execution_count": 119,
     "metadata": {},
     "output_type": "execute_result"
    }
   ],
   "source": [
    "np.subtract(m2,m1)"
   ]
  },
  {
   "cell_type": "code",
   "execution_count": 120,
   "id": "c114e153",
   "metadata": {},
   "outputs": [
    {
     "data": {
      "text/plain": [
       "matrix([[ 90,  96, 102],\n",
       "        [216, 231, 246],\n",
       "        [342, 366, 390]])"
      ]
     },
     "execution_count": 120,
     "metadata": {},
     "output_type": "execute_result"
    }
   ],
   "source": [
    "np.dot(m1,m2)"
   ]
  },
  {
   "cell_type": "code",
   "execution_count": 121,
   "id": "3b96a658",
   "metadata": {},
   "outputs": [
    {
     "data": {
      "text/plain": [
       "matrix([[ 11,  24,  39],\n",
       "        [ 56,  75,  96],\n",
       "        [119, 144, 171]])"
      ]
     },
     "execution_count": 121,
     "metadata": {},
     "output_type": "execute_result"
    }
   ],
   "source": [
    "np.multiply(m1,m2)"
   ]
  },
  {
   "cell_type": "markdown",
   "id": "1a03e3c5",
   "metadata": {},
   "source": [
    "# linear algebra"
   ]
  },
  {
   "cell_type": "code",
   "execution_count": 122,
   "id": "88d7f07d",
   "metadata": {},
   "outputs": [
    {
     "data": {
      "text/plain": [
       "matrix([[1, 2, 3],\n",
       "        [4, 5, 6],\n",
       "        [7, 8, 9]])"
      ]
     },
     "execution_count": 122,
     "metadata": {},
     "output_type": "execute_result"
    }
   ],
   "source": [
    "m1"
   ]
  },
  {
   "cell_type": "code",
   "execution_count": 123,
   "id": "cd8596ef",
   "metadata": {},
   "outputs": [
    {
     "data": {
      "text/plain": [
       "6.66133814775094e-16"
      ]
     },
     "execution_count": 123,
     "metadata": {},
     "output_type": "execute_result"
    }
   ],
   "source": [
    "det=np.linalg.det(m1)\n",
    "det"
   ]
  },
  {
   "cell_type": "code",
   "execution_count": 125,
   "id": "2fff34c7",
   "metadata": {},
   "outputs": [
    {
     "data": {
      "text/plain": [
       "2"
      ]
     },
     "execution_count": 125,
     "metadata": {},
     "output_type": "execute_result"
    }
   ],
   "source": [
    "rank=np.linalg.matrix_rank(m1)\n",
    "rank"
   ]
  },
  {
   "cell_type": "code",
   "execution_count": 127,
   "id": "cd59d8f8",
   "metadata": {},
   "outputs": [
    {
     "data": {
      "text/plain": [
       "matrix([[-4.50359963e+15,  9.00719925e+15, -4.50359963e+15],\n",
       "        [ 9.00719925e+15, -1.80143985e+16,  9.00719925e+15],\n",
       "        [-4.50359963e+15,  9.00719925e+15, -4.50359963e+15]])"
      ]
     },
     "execution_count": 127,
     "metadata": {},
     "output_type": "execute_result"
    }
   ],
   "source": [
    "inverse=np.linalg.inv(m1)\n",
    "inverse"
   ]
  },
  {
   "cell_type": "code",
   "execution_count": 128,
   "id": "65e859e3",
   "metadata": {},
   "outputs": [
    {
     "data": {
      "text/plain": [
       "matrix([[1, 2],\n",
       "        [3, 4]])"
      ]
     },
     "execution_count": 128,
     "metadata": {},
     "output_type": "execute_result"
    }
   ],
   "source": [
    "arr7=np.matrix('1,2;3,4')\n",
    "arr7"
   ]
  },
  {
   "cell_type": "code",
   "execution_count": 130,
   "id": "9bd3dbf7",
   "metadata": {},
   "outputs": [
    {
     "data": {
      "text/plain": [
       "-2"
      ]
     },
     "execution_count": 130,
     "metadata": {},
     "output_type": "execute_result"
    }
   ],
   "source": [
    "det_arr7=np.linalg.det(arr7)\n",
    "round(det_arr7)"
   ]
  },
  {
   "cell_type": "code",
   "execution_count": 131,
   "id": "cfe24cce",
   "metadata": {},
   "outputs": [
    {
     "data": {
      "text/plain": [
       "matrix([[-2. ,  1. ],\n",
       "        [ 1.5, -0.5]])"
      ]
     },
     "execution_count": 131,
     "metadata": {},
     "output_type": "execute_result"
    }
   ],
   "source": [
    "inv_arr7=np.linalg.inv(arr7)\n",
    "inv_arr7"
   ]
  },
  {
   "cell_type": "markdown",
   "id": "78444252",
   "metadata": {},
   "source": [
    "# to solve linear algebraic equations"
   ]
  },
  {
   "cell_type": "code",
   "execution_count": 132,
   "id": "fc434994",
   "metadata": {},
   "outputs": [],
   "source": [
    "#2x-y=-1 & 3x+2y=9"
   ]
  },
  {
   "cell_type": "code",
   "execution_count": 135,
   "id": "37d9a312",
   "metadata": {},
   "outputs": [
    {
     "data": {
      "text/plain": [
       "matrix([[ 2, -1],\n",
       "        [ 3,  2]])"
      ]
     },
     "execution_count": 135,
     "metadata": {},
     "output_type": "execute_result"
    }
   ],
   "source": [
    "a=np.matrix('2,-1;3,2')\n",
    "a"
   ]
  },
  {
   "cell_type": "code",
   "execution_count": 137,
   "id": "06e3c343",
   "metadata": {},
   "outputs": [
    {
     "data": {
      "text/plain": [
       "matrix([[-1],\n",
       "        [ 9]])"
      ]
     },
     "execution_count": 137,
     "metadata": {},
     "output_type": "execute_result"
    }
   ],
   "source": [
    "b=np.matrix('-1;9')\n",
    "b"
   ]
  },
  {
   "cell_type": "code",
   "execution_count": 138,
   "id": "7af96b64",
   "metadata": {},
   "outputs": [
    {
     "data": {
      "text/plain": [
       "matrix([[1.],\n",
       "        [3.]])"
      ]
     },
     "execution_count": 138,
     "metadata": {},
     "output_type": "execute_result"
    }
   ],
   "source": [
    "ans=np.linalg.solve(a,b)\n",
    "ans"
   ]
  },
  {
   "cell_type": "markdown",
   "id": "9e15563b",
   "metadata": {},
   "source": [
    "# broadcasting of arrays"
   ]
  },
  {
   "cell_type": "code",
   "execution_count": null,
   "id": "20103b68",
   "metadata": {},
   "outputs": [],
   "source": []
  }
 ],
 "metadata": {
  "kernelspec": {
   "display_name": "Python 3",
   "language": "python",
   "name": "python3"
  },
  "language_info": {
   "codemirror_mode": {
    "name": "ipython",
    "version": 3
   },
   "file_extension": ".py",
   "mimetype": "text/x-python",
   "name": "python",
   "nbconvert_exporter": "python",
   "pygments_lexer": "ipython3",
   "version": "3.8.8"
  }
 },
 "nbformat": 4,
 "nbformat_minor": 5
}
